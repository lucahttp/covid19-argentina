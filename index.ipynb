{
 "metadata": {
  "language_info": {
   "codemirror_mode": {
    "name": "ipython",
    "version": 3
   },
   "file_extension": ".py",
   "mimetype": "text/x-python",
   "name": "python",
   "nbconvert_exporter": "python",
   "pygments_lexer": "ipython3",
   "version": "3.8.4-candidate"
  },
  "orig_nbformat": 2,
  "kernelspec": {
   "name": "python_defaultSpec_1596680099266",
   "display_name": "Python 3.8.4 64-bit"
  }
 },
 "nbformat": 4,
 "nbformat_minor": 2,
 "cells": [
  {
   "cell_type": "code",
   "execution_count": 7,
   "metadata": {
    "tags": []
   },
   "outputs": [
    {
     "output_type": "error",
     "ename": "SyntaxError",
     "evalue": "invalid syntax (<ipython-input-7-ba761f8e9ba0>, line 1)",
     "traceback": [
      "\u001b[1;36m  File \u001b[1;32m\"<ipython-input-7-ba761f8e9ba0>\"\u001b[1;36m, line \u001b[1;32m1\u001b[0m\n\u001b[1;33m    pip install --upgrade pip\u001b[0m\n\u001b[1;37m        ^\u001b[0m\n\u001b[1;31mSyntaxError\u001b[0m\u001b[1;31m:\u001b[0m invalid syntax\n"
     ]
    }
   ],
   "source": [
    "#pip install --upgrade pip  -m \n",
    "pip install pandas"
   ]
  },
  {
   "cell_type": "code",
   "execution_count": 8,
   "metadata": {
    "tags": []
   },
   "outputs": [],
   "source": [
    "# Import pandas \n",
    "import pandas as pd \n",
    "# reading csv file \n",
    "df = pd.read_csv('./data/casoscovid19.csv')\n",
    "#print(df.head(7))\n",
    "#print(df.columns)\n",
    "#df.query('clasificacion_resumen  > Confirmado')\n",
    "df.query('clasificacion_resumen == \"Confirmado\"', inplace = True) \n"
   ]
  },
  {
   "cell_type": "code",
   "execution_count": 12,
   "metadata": {
    "tags": []
   },
   "outputs": [
    {
     "output_type": "stream",
     "name": "stdout",
     "text": "216752\n"
    }
   ],
   "source": [
    "# https://www.geeksforgeeks.org/python-filtering-data-with-pandas-query-method/\n",
    "# importing pandas package \n",
    "import pandas as pd \n",
    "  \n",
    "# making data frame from csv file  \n",
    "data = pd.read_csv(\"./data/casoscovid19.csv\") \n",
    "  \n",
    "# replacing blank spaces with '_'  \n",
    "data.columns =[column.replace(\" \", \"_\") for column in data.columns] \n",
    "  \n",
    "# filtering with query method \n",
    "#print(len(data.query('clasificacion_resumen ==\"Confirmado\"', inplace = True)))\n",
    "print(len(data.query('clasificacion_resumen ==\"Confirmado\"')))\n",
    "# display \n",
    "#data "
   ]
  },
  {
   "cell_type": "code",
   "execution_count": null,
   "metadata": {},
   "outputs": [],
   "source": []
  }
 ]
}