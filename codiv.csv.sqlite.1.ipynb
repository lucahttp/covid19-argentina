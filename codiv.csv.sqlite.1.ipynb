{
 "cells": [
  {
   "cell_type": "markdown",
   "metadata": {},
   "source": [
    "#Work as SQL\n",
    "import pandas as pd\n",
    "import sqlite3"
   ]
  },
  {
   "cell_type": "code",
   "execution_count": 59,
   "metadata": {},
   "outputs": [],
   "source": [
    "import pandas as pd \n",
    "import sqlite3"
   ]
  },
  {
   "cell_type": "code",
   "execution_count": null,
   "metadata": {},
   "outputs": [],
   "source": [
    "#Downloader\n",
    "# https://stackoverflow.com/questions/22676/how-do-i-download-a-file-over-http-using-python\n",
    "import urllib2\n",
    "\n",
    "url = \"https://sisa.msal.gov.ar/datos/descargas/covid-19/files/Covid19Casos.csv\"\n",
    "# ./data/casoscovid19.csv\n",
    "file_name = url.split('/')[-1]\n",
    "u = urllib2.urlopen(url)\n",
    "f = open(file_name, 'wb')\n",
    "meta = u.info()\n",
    "file_size = int(meta.getheaders(\"Content-Length\")[0])\n",
    "print \"Downloading: %s Bytes: %s\" % (file_name, file_size)\n",
    "\n",
    "file_size_dl = 0\n",
    "block_sz = 8192\n",
    "while True:\n",
    "    buffer = u.read(block_sz)\n",
    "    if not buffer:\n",
    "        break\n",
    "\n",
    "    file_size_dl += len(buffer)\n",
    "    f.write(buffer)\n",
    "    status = r\"%10d  [%3.2f%%]\" % (file_size_dl, file_size_dl * 100. / file_size)\n",
    "    status = status + chr(8)*(len(status)+1)\n",
    "    print status,\n",
    "\n",
    "f.close()"
   ]
  },
  {
   "cell_type": "code",
   "execution_count": 112,
   "metadata": {},
   "outputs": [],
   "source": [
    "#read the CSV\n",
    "df = pd.read_csv('./data/casoscovid19.csv')\n",
    "#connect to a database\n",
    "conn = sqlite3.connect(\"casoscovid19.db\") #if the db does not exist, this creates a Any_Database_Name.db file in the current directory\n",
    "#store your table in the database:\n",
    "\n",
    "\n",
    "cursor = conn.cursor()\n",
    "#Doping EMPLOYEE table if already exists\n",
    "cursor.execute(\"DROP TABLE IF EXISTS test_0\")\n",
    "#print(\"Table dropped... \")\n",
    "#Commit your changes in the database\n",
    "conn.commit()\n",
    "#Closing the connection\n",
    "#conn.close()\n",
    "# https://www.tutorialspoint.com/python_sqlite/python_sqlite_drop_table.htm\n",
    "\n",
    "#gg = pd.read_sql('DROP TABLE IF EXISTS test_0;', conn)\n",
    "#pd.read_sql_query('DROP TABLE IF EXISTS test_0;', conn)\n",
    "df.to_sql('test_0', conn)"
   ]
  },
  {
   "cell_type": "code",
   "execution_count": 89,
   "metadata": {},
   "outputs": [],
   "source": [
    "#connect to a database\n",
    "conn = sqlite3.connect(\"casoscovid19.db\") \n",
    "#if the db does not exist, this creates a Any_Database_Name.db file in the current directory"
   ]
  },
  {
   "cell_type": "code",
   "execution_count": 120,
   "metadata": {},
   "outputs": [
    {
     "output_type": "execute_result",
     "data": {
      "text/plain": "    Total  Confirmados  Recuperados  Fallecidos\n0  773272       228173       103284        4252",
      "text/html": "<div>\n<style scoped>\n    .dataframe tbody tr th:only-of-type {\n        vertical-align: middle;\n    }\n\n    .dataframe tbody tr th {\n        vertical-align: top;\n    }\n\n    .dataframe thead th {\n        text-align: right;\n    }\n</style>\n<table border=\"1\" class=\"dataframe\">\n  <thead>\n    <tr style=\"text-align: right;\">\n      <th></th>\n      <th>Total</th>\n      <th>Confirmados</th>\n      <th>Recuperados</th>\n      <th>Fallecidos</th>\n    </tr>\n  </thead>\n  <tbody>\n    <tr>\n      <th>0</th>\n      <td>773272</td>\n      <td>228173</td>\n      <td>103284</td>\n      <td>4252</td>\n    </tr>\n  </tbody>\n</table>\n</div>"
     },
     "metadata": {},
     "execution_count": 120
    }
   ],
   "source": [
    "# table argentina\n",
    "# Provincia\tCasos Confirmados Totales\tRecuperados\tFallecidos\n",
    "sql_string = '''SELECT count(*) AS Total,\n",
    "    sum(case when clasificacion_resumen=\"Confirmado\" then 1 else 0 end) AS Confirmados,\n",
    "    sum(case when clasificacion LIKE \"%No Activo%\" then 1 else 0 end) AS Recuperados,\n",
    "    sum(case when clasificacion = \"Caso confirmado - Fallecido\" then 1 else 0 end) AS Fallecidos\n",
    "FROM test_0;\n",
    "'''\n",
    "gg = pd.read_sql(sql_string, conn)\n",
    "gg"
   ]
  },
  {
   "cell_type": "code",
   "execution_count": 118,
   "metadata": {},
   "outputs": [
    {
     "output_type": "execute_result",
     "data": {
      "text/plain": "              Provincia   Total  Confirmados  Recuperados  Fallecidos\n0          Buenos Aires  413892       138322        68677        2370\n1                  CABA  177414        66454        24220        1408\n2             Catamarca    2204           60           50           0\n3                 Chaco   25304         3872         2866         159\n4                Chubut    3471          308          174           3\n5            Corrientes    4865          200          120           2\n6               Córdoba   35982         2994          649          52\n7            Entre Ríos    5811          999          693          11\n8               Formosa     904           81           77           0\n9                 Jujuy   15122         2957          317          31\n10             La Pampa    1611          170           72           0\n11             La Rioja    4371          449          206          18\n12              Mendoza    9041         1791          532          49\n13             Misiones    2391           52           39           2\n14              Neuquén    5250         1376          968          28\n15            Río Negro    8939         2666         1135          81\n16      SIN ESPECIFICAR    3247         1317          520           4\n17                Salta    2399          411          169           2\n18             San Juan    1106           22           17           0\n19             San Luis     934           32           14           0\n20           Santa Cruz    1715          635          310           4\n21             Santa Fe   23761         1778          846          18\n22  Santiago del Estero    5808           78           36           0\n23     Tierra del Fuego    3612          801          425           5\n24              Tucumán   14118          348          152           5",
      "text/html": "<div>\n<style scoped>\n    .dataframe tbody tr th:only-of-type {\n        vertical-align: middle;\n    }\n\n    .dataframe tbody tr th {\n        vertical-align: top;\n    }\n\n    .dataframe thead th {\n        text-align: right;\n    }\n</style>\n<table border=\"1\" class=\"dataframe\">\n  <thead>\n    <tr style=\"text-align: right;\">\n      <th></th>\n      <th>Provincia</th>\n      <th>Total</th>\n      <th>Confirmados</th>\n      <th>Recuperados</th>\n      <th>Fallecidos</th>\n    </tr>\n  </thead>\n  <tbody>\n    <tr>\n      <th>0</th>\n      <td>Buenos Aires</td>\n      <td>413892</td>\n      <td>138322</td>\n      <td>68677</td>\n      <td>2370</td>\n    </tr>\n    <tr>\n      <th>1</th>\n      <td>CABA</td>\n      <td>177414</td>\n      <td>66454</td>\n      <td>24220</td>\n      <td>1408</td>\n    </tr>\n    <tr>\n      <th>2</th>\n      <td>Catamarca</td>\n      <td>2204</td>\n      <td>60</td>\n      <td>50</td>\n      <td>0</td>\n    </tr>\n    <tr>\n      <th>3</th>\n      <td>Chaco</td>\n      <td>25304</td>\n      <td>3872</td>\n      <td>2866</td>\n      <td>159</td>\n    </tr>\n    <tr>\n      <th>4</th>\n      <td>Chubut</td>\n      <td>3471</td>\n      <td>308</td>\n      <td>174</td>\n      <td>3</td>\n    </tr>\n    <tr>\n      <th>5</th>\n      <td>Corrientes</td>\n      <td>4865</td>\n      <td>200</td>\n      <td>120</td>\n      <td>2</td>\n    </tr>\n    <tr>\n      <th>6</th>\n      <td>Córdoba</td>\n      <td>35982</td>\n      <td>2994</td>\n      <td>649</td>\n      <td>52</td>\n    </tr>\n    <tr>\n      <th>7</th>\n      <td>Entre Ríos</td>\n      <td>5811</td>\n      <td>999</td>\n      <td>693</td>\n      <td>11</td>\n    </tr>\n    <tr>\n      <th>8</th>\n      <td>Formosa</td>\n      <td>904</td>\n      <td>81</td>\n      <td>77</td>\n      <td>0</td>\n    </tr>\n    <tr>\n      <th>9</th>\n      <td>Jujuy</td>\n      <td>15122</td>\n      <td>2957</td>\n      <td>317</td>\n      <td>31</td>\n    </tr>\n    <tr>\n      <th>10</th>\n      <td>La Pampa</td>\n      <td>1611</td>\n      <td>170</td>\n      <td>72</td>\n      <td>0</td>\n    </tr>\n    <tr>\n      <th>11</th>\n      <td>La Rioja</td>\n      <td>4371</td>\n      <td>449</td>\n      <td>206</td>\n      <td>18</td>\n    </tr>\n    <tr>\n      <th>12</th>\n      <td>Mendoza</td>\n      <td>9041</td>\n      <td>1791</td>\n      <td>532</td>\n      <td>49</td>\n    </tr>\n    <tr>\n      <th>13</th>\n      <td>Misiones</td>\n      <td>2391</td>\n      <td>52</td>\n      <td>39</td>\n      <td>2</td>\n    </tr>\n    <tr>\n      <th>14</th>\n      <td>Neuquén</td>\n      <td>5250</td>\n      <td>1376</td>\n      <td>968</td>\n      <td>28</td>\n    </tr>\n    <tr>\n      <th>15</th>\n      <td>Río Negro</td>\n      <td>8939</td>\n      <td>2666</td>\n      <td>1135</td>\n      <td>81</td>\n    </tr>\n    <tr>\n      <th>16</th>\n      <td>SIN ESPECIFICAR</td>\n      <td>3247</td>\n      <td>1317</td>\n      <td>520</td>\n      <td>4</td>\n    </tr>\n    <tr>\n      <th>17</th>\n      <td>Salta</td>\n      <td>2399</td>\n      <td>411</td>\n      <td>169</td>\n      <td>2</td>\n    </tr>\n    <tr>\n      <th>18</th>\n      <td>San Juan</td>\n      <td>1106</td>\n      <td>22</td>\n      <td>17</td>\n      <td>0</td>\n    </tr>\n    <tr>\n      <th>19</th>\n      <td>San Luis</td>\n      <td>934</td>\n      <td>32</td>\n      <td>14</td>\n      <td>0</td>\n    </tr>\n    <tr>\n      <th>20</th>\n      <td>Santa Cruz</td>\n      <td>1715</td>\n      <td>635</td>\n      <td>310</td>\n      <td>4</td>\n    </tr>\n    <tr>\n      <th>21</th>\n      <td>Santa Fe</td>\n      <td>23761</td>\n      <td>1778</td>\n      <td>846</td>\n      <td>18</td>\n    </tr>\n    <tr>\n      <th>22</th>\n      <td>Santiago del Estero</td>\n      <td>5808</td>\n      <td>78</td>\n      <td>36</td>\n      <td>0</td>\n    </tr>\n    <tr>\n      <th>23</th>\n      <td>Tierra del Fuego</td>\n      <td>3612</td>\n      <td>801</td>\n      <td>425</td>\n      <td>5</td>\n    </tr>\n    <tr>\n      <th>24</th>\n      <td>Tucumán</td>\n      <td>14118</td>\n      <td>348</td>\n      <td>152</td>\n      <td>5</td>\n    </tr>\n  </tbody>\n</table>\n</div>"
     },
     "metadata": {},
     "execution_count": 118
    }
   ],
   "source": [
    "# table provincias\n",
    "# Provincia\tCasos Confirmados Totales\tRecuperados\tFallecidos\n",
    "sql_string = '''SELECT residencia_provincia_nombre  AS Provincia,\n",
    "    count(*) AS Total,\n",
    "    sum(case when clasificacion_resumen=\"Confirmado\" then 1 else 0 end) AS Confirmados,\n",
    "    sum(case when clasificacion LIKE \"%No Activo%\" then 1 else 0 end) AS Recuperados,\n",
    "    sum(case when clasificacion = \"Caso confirmado - Fallecido\" then 1 else 0 end) AS Fallecidos\n",
    "FROM test_0\n",
    "GROUP BY residencia_provincia_nombre;\n",
    "'''\n",
    "gg = pd.read_sql(sql_string, conn)\n",
    "gg"
   ]
  },
  {
   "cell_type": "code",
   "execution_count": 117,
   "metadata": {},
   "outputs": [
    {
     "output_type": "execute_result",
     "data": {
      "text/plain": "                 Residencia  Total  Confirmados  Recuperados  Fallecidos\n0                25 de Mayo    199           36           23           0\n1                9 de Julio    287           21           14           1\n2             Adolfo Alsina     35            2            2           0\n3    Adolfo Gonzales Chaves     36            1            0           0\n4                   Alberti    158           12            7           0\n..                      ...    ...          ...          ...         ...\n131         Tres de Febrero  13810         5110         2526         107\n132           Vicente López   8028         2371         1027          55\n133            Villa Gesell    160            9            6           0\n134               Villarino    127           19           16           0\n135                  Zárate   2198          475          325           7\n\n[136 rows x 5 columns]",
      "text/html": "<div>\n<style scoped>\n    .dataframe tbody tr th:only-of-type {\n        vertical-align: middle;\n    }\n\n    .dataframe tbody tr th {\n        vertical-align: top;\n    }\n\n    .dataframe thead th {\n        text-align: right;\n    }\n</style>\n<table border=\"1\" class=\"dataframe\">\n  <thead>\n    <tr style=\"text-align: right;\">\n      <th></th>\n      <th>Residencia</th>\n      <th>Total</th>\n      <th>Confirmados</th>\n      <th>Recuperados</th>\n      <th>Fallecidos</th>\n    </tr>\n  </thead>\n  <tbody>\n    <tr>\n      <th>0</th>\n      <td>25 de Mayo</td>\n      <td>199</td>\n      <td>36</td>\n      <td>23</td>\n      <td>0</td>\n    </tr>\n    <tr>\n      <th>1</th>\n      <td>9 de Julio</td>\n      <td>287</td>\n      <td>21</td>\n      <td>14</td>\n      <td>1</td>\n    </tr>\n    <tr>\n      <th>2</th>\n      <td>Adolfo Alsina</td>\n      <td>35</td>\n      <td>2</td>\n      <td>2</td>\n      <td>0</td>\n    </tr>\n    <tr>\n      <th>3</th>\n      <td>Adolfo Gonzales Chaves</td>\n      <td>36</td>\n      <td>1</td>\n      <td>0</td>\n      <td>0</td>\n    </tr>\n    <tr>\n      <th>4</th>\n      <td>Alberti</td>\n      <td>158</td>\n      <td>12</td>\n      <td>7</td>\n      <td>0</td>\n    </tr>\n    <tr>\n      <th>...</th>\n      <td>...</td>\n      <td>...</td>\n      <td>...</td>\n      <td>...</td>\n      <td>...</td>\n    </tr>\n    <tr>\n      <th>131</th>\n      <td>Tres de Febrero</td>\n      <td>13810</td>\n      <td>5110</td>\n      <td>2526</td>\n      <td>107</td>\n    </tr>\n    <tr>\n      <th>132</th>\n      <td>Vicente López</td>\n      <td>8028</td>\n      <td>2371</td>\n      <td>1027</td>\n      <td>55</td>\n    </tr>\n    <tr>\n      <th>133</th>\n      <td>Villa Gesell</td>\n      <td>160</td>\n      <td>9</td>\n      <td>6</td>\n      <td>0</td>\n    </tr>\n    <tr>\n      <th>134</th>\n      <td>Villarino</td>\n      <td>127</td>\n      <td>19</td>\n      <td>16</td>\n      <td>0</td>\n    </tr>\n    <tr>\n      <th>135</th>\n      <td>Zárate</td>\n      <td>2198</td>\n      <td>475</td>\n      <td>325</td>\n      <td>7</td>\n    </tr>\n  </tbody>\n</table>\n<p>136 rows × 5 columns</p>\n</div>"
     },
     "metadata": {},
     "execution_count": 117
    }
   ],
   "source": [
    "# table departamentos buenos aires\n",
    "# Provincia\tCasos Confirmados Totales\tRecuperados\tFallecidos\n",
    "sql_string = '''SELECT residencia_departamento_nombre  AS Residencia,\n",
    "    count(*) AS Total,\n",
    "    sum(case when clasificacion_resumen=\"Confirmado\" then 1 else 0 end) AS Confirmados,\n",
    "    sum(case when clasificacion LIKE \"%No Activo%\" then 1 else 0 end) AS Recuperados,\n",
    "    sum(case when clasificacion = \"Caso confirmado - Fallecido\" then 1 else 0 end) AS Fallecidos\n",
    "FROM test_0\n",
    "WHERE (residencia_provincia_nombre=\"Buenos Aires\")\n",
    "GROUP BY residencia_departamento_nombre;\n",
    "'''\n",
    "gg = pd.read_sql(sql_string, conn)\n",
    "gg"
   ]
  },
  {
   "cell_type": "code",
   "execution_count": 116,
   "metadata": {},
   "outputs": [
    {
     "output_type": "execute_result",
     "data": {
      "text/plain": "  fecha_apertura  count(*)\n0     2020-08-06      1598\n1     2020-08-05      3110\n2     2020-08-04      5656\n3     2020-08-03      5641\n4     2020-08-02      3934\n5     2020-08-01      3948\n6     2020-07-31      5756",
      "text/html": "<div>\n<style scoped>\n    .dataframe tbody tr th:only-of-type {\n        vertical-align: middle;\n    }\n\n    .dataframe tbody tr th {\n        vertical-align: top;\n    }\n\n    .dataframe thead th {\n        text-align: right;\n    }\n</style>\n<table border=\"1\" class=\"dataframe\">\n  <thead>\n    <tr style=\"text-align: right;\">\n      <th></th>\n      <th>fecha_apertura</th>\n      <th>count(*)</th>\n    </tr>\n  </thead>\n  <tbody>\n    <tr>\n      <th>0</th>\n      <td>2020-08-06</td>\n      <td>1598</td>\n    </tr>\n    <tr>\n      <th>1</th>\n      <td>2020-08-05</td>\n      <td>3110</td>\n    </tr>\n    <tr>\n      <th>2</th>\n      <td>2020-08-04</td>\n      <td>5656</td>\n    </tr>\n    <tr>\n      <th>3</th>\n      <td>2020-08-03</td>\n      <td>5641</td>\n    </tr>\n    <tr>\n      <th>4</th>\n      <td>2020-08-02</td>\n      <td>3934</td>\n    </tr>\n    <tr>\n      <th>5</th>\n      <td>2020-08-01</td>\n      <td>3948</td>\n    </tr>\n    <tr>\n      <th>6</th>\n      <td>2020-07-31</td>\n      <td>5756</td>\n    </tr>\n  </tbody>\n</table>\n</div>"
     },
     "metadata": {},
     "execution_count": 116
    }
   ],
   "source": [
    "# table departamentos buenos aires\n",
    "# Provincia\tCasos Confirmados Totales\tRecuperados\tFallecidos\n",
    "sql_string = '''\n",
    "SELECT fecha_apertura, count(*) FROM test_0 WHERE (clasificacion_resumen=\"Confirmado\") group by fecha_apertura  ORDER BY \"fecha_apertura\" DESC LIMIT 7;\n",
    "'''\n",
    "gg = pd.read_sql(sql_string, conn)\n",
    "gg"
   ]
  },
  {
   "cell_type": "code",
   "execution_count": null,
   "metadata": {},
   "outputs": [],
   "source": []
  }
 ],
 "metadata": {
  "kernelspec": {
   "display_name": "Python 3",
   "language": "python",
   "name": "python3"
  },
  "language_info": {
   "codemirror_mode": {
    "name": "ipython",
    "version": 3
   },
   "file_extension": ".py",
   "mimetype": "text/x-python",
   "name": "python",
   "nbconvert_exporter": "python",
   "pygments_lexer": "ipython3",
   "version": "3.6.5-final"
  }
 },
 "nbformat": 4,
 "nbformat_minor": 4
}