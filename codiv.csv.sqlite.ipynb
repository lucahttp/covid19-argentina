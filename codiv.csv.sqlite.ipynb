{
 "metadata": {
  "language_info": {
   "codemirror_mode": {
    "name": "ipython",
    "version": 3
   },
   "file_extension": ".py",
   "mimetype": "text/x-python",
   "name": "python",
   "nbconvert_exporter": "python",
   "pygments_lexer": "ipython3",
   "version": "3.6.5-final"
  },
  "orig_nbformat": 2,
  "kernelspec": {
   "name": "python36564bit644bb8044f4a404abdcc41a673018b03",
   "display_name": "Python 3.6.5 64-bit"
  }
 },
 "nbformat": 4,
 "nbformat_minor": 2,
 "cells": [
  {
   "cell_type": "code",
   "execution_count": 3,
   "metadata": {},
   "outputs": [],
   "source": [
    "#Work as SQL\n",
    "import pandas as pd\n",
    "import sqlite3"
   ]
  },
  {
   "cell_type": "code",
   "execution_count": 7,
   "metadata": {},
   "outputs": [
    {
     "output_type": "error",
     "ename": "ValueError",
     "evalue": "Table 'test_0' already exists.",
     "traceback": [
      "\u001b[1;31m---------------------------------------------------------------------------\u001b[0m",
      "\u001b[1;31mValueError\u001b[0m                                Traceback (most recent call last)",
      "\u001b[1;32m<ipython-input-7-3192320435ff>\u001b[0m in \u001b[0;36m<module>\u001b[1;34m\u001b[0m\n\u001b[0;32m      4\u001b[0m \u001b[0mconn\u001b[0m \u001b[1;33m=\u001b[0m \u001b[0msqlite3\u001b[0m\u001b[1;33m.\u001b[0m\u001b[0mconnect\u001b[0m\u001b[1;33m(\u001b[0m\u001b[1;34m\"casoscovid19.db\"\u001b[0m\u001b[1;33m)\u001b[0m \u001b[1;31m#if the db does not exist, this creates a Any_Database_Name.db file in the current directory\u001b[0m\u001b[1;33m\u001b[0m\u001b[0m\n\u001b[0;32m      5\u001b[0m \u001b[1;31m#store your table in the database:\u001b[0m\u001b[1;33m\u001b[0m\u001b[1;33m\u001b[0m\u001b[0m\n\u001b[1;32m----> 6\u001b[1;33m \u001b[0mdf\u001b[0m\u001b[1;33m.\u001b[0m\u001b[0mto_sql\u001b[0m\u001b[1;33m(\u001b[0m\u001b[1;34m'test_0'\u001b[0m\u001b[1;33m,\u001b[0m \u001b[0mconn\u001b[0m\u001b[1;33m)\u001b[0m\u001b[1;33m\u001b[0m\u001b[0m\n\u001b[0m",
      "\u001b[1;32mC:\\Program Files\\Python36\\lib\\site-packages\\pandas\\core\\generic.py\u001b[0m in \u001b[0;36mto_sql\u001b[1;34m(self, name, con, schema, if_exists, index, index_label, chunksize, dtype, method)\u001b[0m\n\u001b[0;32m   2661\u001b[0m             \u001b[0mchunksize\u001b[0m\u001b[1;33m=\u001b[0m\u001b[0mchunksize\u001b[0m\u001b[1;33m,\u001b[0m\u001b[1;33m\u001b[0m\u001b[0m\n\u001b[0;32m   2662\u001b[0m             \u001b[0mdtype\u001b[0m\u001b[1;33m=\u001b[0m\u001b[0mdtype\u001b[0m\u001b[1;33m,\u001b[0m\u001b[1;33m\u001b[0m\u001b[0m\n\u001b[1;32m-> 2663\u001b[1;33m             \u001b[0mmethod\u001b[0m\u001b[1;33m=\u001b[0m\u001b[0mmethod\u001b[0m\u001b[1;33m,\u001b[0m\u001b[1;33m\u001b[0m\u001b[0m\n\u001b[0m\u001b[0;32m   2664\u001b[0m         )\n\u001b[0;32m   2665\u001b[0m \u001b[1;33m\u001b[0m\u001b[0m\n",
      "\u001b[1;32mC:\\Program Files\\Python36\\lib\\site-packages\\pandas\\io\\sql.py\u001b[0m in \u001b[0;36mto_sql\u001b[1;34m(frame, name, con, schema, if_exists, index, index_label, chunksize, dtype, method)\u001b[0m\n\u001b[0;32m    519\u001b[0m         \u001b[0mchunksize\u001b[0m\u001b[1;33m=\u001b[0m\u001b[0mchunksize\u001b[0m\u001b[1;33m,\u001b[0m\u001b[1;33m\u001b[0m\u001b[0m\n\u001b[0;32m    520\u001b[0m         \u001b[0mdtype\u001b[0m\u001b[1;33m=\u001b[0m\u001b[0mdtype\u001b[0m\u001b[1;33m,\u001b[0m\u001b[1;33m\u001b[0m\u001b[0m\n\u001b[1;32m--> 521\u001b[1;33m         \u001b[0mmethod\u001b[0m\u001b[1;33m=\u001b[0m\u001b[0mmethod\u001b[0m\u001b[1;33m,\u001b[0m\u001b[1;33m\u001b[0m\u001b[0m\n\u001b[0m\u001b[0;32m    522\u001b[0m     )\n\u001b[0;32m    523\u001b[0m \u001b[1;33m\u001b[0m\u001b[0m\n",
      "\u001b[1;32mC:\\Program Files\\Python36\\lib\\site-packages\\pandas\\io\\sql.py\u001b[0m in \u001b[0;36mto_sql\u001b[1;34m(self, frame, name, if_exists, index, index_label, schema, chunksize, dtype, method)\u001b[0m\n\u001b[0;32m   1731\u001b[0m             \u001b[0mdtype\u001b[0m\u001b[1;33m=\u001b[0m\u001b[0mdtype\u001b[0m\u001b[1;33m,\u001b[0m\u001b[1;33m\u001b[0m\u001b[0m\n\u001b[0;32m   1732\u001b[0m         )\n\u001b[1;32m-> 1733\u001b[1;33m         \u001b[0mtable\u001b[0m\u001b[1;33m.\u001b[0m\u001b[0mcreate\u001b[0m\u001b[1;33m(\u001b[0m\u001b[1;33m)\u001b[0m\u001b[1;33m\u001b[0m\u001b[0m\n\u001b[0m\u001b[0;32m   1734\u001b[0m         \u001b[0mtable\u001b[0m\u001b[1;33m.\u001b[0m\u001b[0minsert\u001b[0m\u001b[1;33m(\u001b[0m\u001b[0mchunksize\u001b[0m\u001b[1;33m,\u001b[0m \u001b[0mmethod\u001b[0m\u001b[1;33m)\u001b[0m\u001b[1;33m\u001b[0m\u001b[0m\n\u001b[0;32m   1735\u001b[0m \u001b[1;33m\u001b[0m\u001b[0m\n",
      "\u001b[1;32mC:\\Program Files\\Python36\\lib\\site-packages\\pandas\\io\\sql.py\u001b[0m in \u001b[0;36mcreate\u001b[1;34m(self)\u001b[0m\n\u001b[0;32m    644\u001b[0m         \u001b[1;32mif\u001b[0m \u001b[0mself\u001b[0m\u001b[1;33m.\u001b[0m\u001b[0mexists\u001b[0m\u001b[1;33m(\u001b[0m\u001b[1;33m)\u001b[0m\u001b[1;33m:\u001b[0m\u001b[1;33m\u001b[0m\u001b[0m\n\u001b[0;32m    645\u001b[0m             \u001b[1;32mif\u001b[0m \u001b[0mself\u001b[0m\u001b[1;33m.\u001b[0m\u001b[0mif_exists\u001b[0m \u001b[1;33m==\u001b[0m \u001b[1;34m\"fail\"\u001b[0m\u001b[1;33m:\u001b[0m\u001b[1;33m\u001b[0m\u001b[0m\n\u001b[1;32m--> 646\u001b[1;33m                 \u001b[1;32mraise\u001b[0m \u001b[0mValueError\u001b[0m\u001b[1;33m(\u001b[0m\u001b[1;34mf\"Table '{self.name}' already exists.\"\u001b[0m\u001b[1;33m)\u001b[0m\u001b[1;33m\u001b[0m\u001b[0m\n\u001b[0m\u001b[0;32m    647\u001b[0m             \u001b[1;32melif\u001b[0m \u001b[0mself\u001b[0m\u001b[1;33m.\u001b[0m\u001b[0mif_exists\u001b[0m \u001b[1;33m==\u001b[0m \u001b[1;34m\"replace\"\u001b[0m\u001b[1;33m:\u001b[0m\u001b[1;33m\u001b[0m\u001b[0m\n\u001b[0;32m    648\u001b[0m                 \u001b[0mself\u001b[0m\u001b[1;33m.\u001b[0m\u001b[0mpd_sql\u001b[0m\u001b[1;33m.\u001b[0m\u001b[0mdrop_table\u001b[0m\u001b[1;33m(\u001b[0m\u001b[0mself\u001b[0m\u001b[1;33m.\u001b[0m\u001b[0mname\u001b[0m\u001b[1;33m,\u001b[0m \u001b[0mself\u001b[0m\u001b[1;33m.\u001b[0m\u001b[0mschema\u001b[0m\u001b[1;33m)\u001b[0m\u001b[1;33m\u001b[0m\u001b[0m\n",
      "\u001b[1;31mValueError\u001b[0m: Table 'test_0' already exists."
     ]
    }
   ],
   "source": [
    "#read the CSV\n",
    "df = pd.read_csv('./data/casoscovid19.csv')\n",
    "#connect to a database\n",
    "conn = sqlite3.connect(\"casoscovid19.db\") #if the db does not exist, this creates a Any_Database_Name.db file in the current directory\n",
    "#store your table in the database:\n",
    "df.to_sql('test_0', conn)"
   ]
  },
  {
   "cell_type": "code",
   "execution_count": 50,
   "metadata": {},
   "outputs": [
    {
     "output_type": "execute_result",
     "data": {
      "text/plain": "   COUNT(*)\n0    208031",
      "text/html": "<div>\n<style scoped>\n    .dataframe tbody tr th:only-of-type {\n        vertical-align: middle;\n    }\n\n    .dataframe tbody tr th {\n        vertical-align: top;\n    }\n\n    .dataframe thead th {\n        text-align: right;\n    }\n</style>\n<table border=\"1\" class=\"dataframe\">\n  <thead>\n    <tr style=\"text-align: right;\">\n      <th></th>\n      <th>COUNT(*)</th>\n    </tr>\n  </thead>\n  <tbody>\n    <tr>\n      <th>0</th>\n      <td>208031</td>\n    </tr>\n  </tbody>\n</table>\n</div>"
     },
     "metadata": {},
     "execution_count": 50
    }
   ],
   "source": [
    "#read a SQL Query out of your database and into a pandas dataframe\n",
    "sql_string = 'SELECT * FROM test_0'\n",
    "sql_string = 'SELECT COUNT(*) FROM test_0 WHERE clasificacion LIKE \"%Caso confirmado%\";'\n",
    "gg = pd.read_sql(sql_string, conn)\n",
    "gg"
   ]
  },
  {
   "cell_type": "code",
   "execution_count": 37,
   "metadata": {},
   "outputs": [
    {
     "output_type": "execute_result",
     "data": {
      "text/plain": "   index  id_evento_caso sexo  edad edad_años_meses residencia_pais_nombre  \\\n0      0         1000000    M  53.0            Años              Argentina   \n1      1         1000002    M  21.0            Años              Argentina   \n2      2         1000003    F  40.0            Años              Argentina   \n3      3         1000005    F  58.0            Años              Argentina   \n4      4         1000006    M  28.0            Años              Argentina   \n\n  residencia_provincia_nombre residencia_departamento_nombre  \\\n0                        CABA                SIN ESPECIFICAR   \n1                Buenos Aires                     La Matanza   \n2                     Córdoba                        Capital   \n3                     Mendoza                      Las Heras   \n4                Buenos Aires            Malvinas Argentinas   \n\n  carga_provincia_nombre fecha_inicio_sintomas  ... fecha_fallecimiento  \\\n0           Buenos Aires                  None  ...                None   \n1           Buenos Aires                  None  ...                None   \n2                Córdoba            2020-05-24  ...                None   \n3                Mendoza                  None  ...                None   \n4           Buenos Aires            2020-05-30  ...                None   \n\n   asistencia_respiratoria_mecanica carga_provincia_id origen_financiamiento  \\\n0                                NO                6.0               Privado   \n1                                NO                6.0               Público   \n2                                NO               14.0               Privado   \n3                                NO               50.0               Público   \n4                                NO                6.0               Público   \n\n                                 clasificacion clasificacion_resumen  \\\n0                              Caso Descartado            Descartado   \n1                              Caso Descartado            Descartado   \n2                              Caso Descartado            Descartado   \n3                              Caso Descartado            Descartado   \n4  Caso sospechoso - Con muestra sin resultado            Sospechoso   \n\n  residencia_provincia_id fecha_diagnostico  residencia_departamento_id  \\\n0                     2.0        2020-06-09                         0.0   \n1                     6.0        2020-06-01                       427.0   \n2                    14.0        2020-06-01                        14.0   \n3                    50.0        2020-06-01                        49.0   \n4                     6.0              None                       515.0   \n\n  ultima_actualizacion  \n0           2020-08-05  \n1           2020-08-05  \n2           2020-08-05  \n3           2020-08-05  \n4           2020-08-05  \n\n[5 rows x 26 columns]",
      "text/html": "<div>\n<style scoped>\n    .dataframe tbody tr th:only-of-type {\n        vertical-align: middle;\n    }\n\n    .dataframe tbody tr th {\n        vertical-align: top;\n    }\n\n    .dataframe thead th {\n        text-align: right;\n    }\n</style>\n<table border=\"1\" class=\"dataframe\">\n  <thead>\n    <tr style=\"text-align: right;\">\n      <th></th>\n      <th>index</th>\n      <th>id_evento_caso</th>\n      <th>sexo</th>\n      <th>edad</th>\n      <th>edad_años_meses</th>\n      <th>residencia_pais_nombre</th>\n      <th>residencia_provincia_nombre</th>\n      <th>residencia_departamento_nombre</th>\n      <th>carga_provincia_nombre</th>\n      <th>fecha_inicio_sintomas</th>\n      <th>...</th>\n      <th>fecha_fallecimiento</th>\n      <th>asistencia_respiratoria_mecanica</th>\n      <th>carga_provincia_id</th>\n      <th>origen_financiamiento</th>\n      <th>clasificacion</th>\n      <th>clasificacion_resumen</th>\n      <th>residencia_provincia_id</th>\n      <th>fecha_diagnostico</th>\n      <th>residencia_departamento_id</th>\n      <th>ultima_actualizacion</th>\n    </tr>\n  </thead>\n  <tbody>\n    <tr>\n      <th>0</th>\n      <td>0</td>\n      <td>1000000</td>\n      <td>M</td>\n      <td>53.0</td>\n      <td>Años</td>\n      <td>Argentina</td>\n      <td>CABA</td>\n      <td>SIN ESPECIFICAR</td>\n      <td>Buenos Aires</td>\n      <td>None</td>\n      <td>...</td>\n      <td>None</td>\n      <td>NO</td>\n      <td>6.0</td>\n      <td>Privado</td>\n      <td>Caso Descartado</td>\n      <td>Descartado</td>\n      <td>2.0</td>\n      <td>2020-06-09</td>\n      <td>0.0</td>\n      <td>2020-08-05</td>\n    </tr>\n    <tr>\n      <th>1</th>\n      <td>1</td>\n      <td>1000002</td>\n      <td>M</td>\n      <td>21.0</td>\n      <td>Años</td>\n      <td>Argentina</td>\n      <td>Buenos Aires</td>\n      <td>La Matanza</td>\n      <td>Buenos Aires</td>\n      <td>None</td>\n      <td>...</td>\n      <td>None</td>\n      <td>NO</td>\n      <td>6.0</td>\n      <td>Público</td>\n      <td>Caso Descartado</td>\n      <td>Descartado</td>\n      <td>6.0</td>\n      <td>2020-06-01</td>\n      <td>427.0</td>\n      <td>2020-08-05</td>\n    </tr>\n    <tr>\n      <th>2</th>\n      <td>2</td>\n      <td>1000003</td>\n      <td>F</td>\n      <td>40.0</td>\n      <td>Años</td>\n      <td>Argentina</td>\n      <td>Córdoba</td>\n      <td>Capital</td>\n      <td>Córdoba</td>\n      <td>2020-05-24</td>\n      <td>...</td>\n      <td>None</td>\n      <td>NO</td>\n      <td>14.0</td>\n      <td>Privado</td>\n      <td>Caso Descartado</td>\n      <td>Descartado</td>\n      <td>14.0</td>\n      <td>2020-06-01</td>\n      <td>14.0</td>\n      <td>2020-08-05</td>\n    </tr>\n    <tr>\n      <th>3</th>\n      <td>3</td>\n      <td>1000005</td>\n      <td>F</td>\n      <td>58.0</td>\n      <td>Años</td>\n      <td>Argentina</td>\n      <td>Mendoza</td>\n      <td>Las Heras</td>\n      <td>Mendoza</td>\n      <td>None</td>\n      <td>...</td>\n      <td>None</td>\n      <td>NO</td>\n      <td>50.0</td>\n      <td>Público</td>\n      <td>Caso Descartado</td>\n      <td>Descartado</td>\n      <td>50.0</td>\n      <td>2020-06-01</td>\n      <td>49.0</td>\n      <td>2020-08-05</td>\n    </tr>\n    <tr>\n      <th>4</th>\n      <td>4</td>\n      <td>1000006</td>\n      <td>M</td>\n      <td>28.0</td>\n      <td>Años</td>\n      <td>Argentina</td>\n      <td>Buenos Aires</td>\n      <td>Malvinas Argentinas</td>\n      <td>Buenos Aires</td>\n      <td>2020-05-30</td>\n      <td>...</td>\n      <td>None</td>\n      <td>NO</td>\n      <td>6.0</td>\n      <td>Público</td>\n      <td>Caso sospechoso - Con muestra sin resultado</td>\n      <td>Sospechoso</td>\n      <td>6.0</td>\n      <td>None</td>\n      <td>515.0</td>\n      <td>2020-08-05</td>\n    </tr>\n  </tbody>\n</table>\n<p>5 rows × 26 columns</p>\n</div>"
     },
     "metadata": {},
     "execution_count": 37
    }
   ],
   "source": [
    "#read a SQL Query out of your database and into a pandas dataframe\n",
    "sql_string = 'SELECT * FROM test_0 LIMIT 5;'\n",
    "gg = pd.read_sql(sql_string, conn)\n",
    "gg"
   ]
  },
  {
   "cell_type": "code",
   "execution_count": null,
   "metadata": {},
   "outputs": [],
   "source": [
    "ultima_actualizacion"
   ]
  },
  {
   "cell_type": "code",
   "execution_count": 54,
   "metadata": {},
   "outputs": [
    {
     "output_type": "execute_result",
     "data": {
      "text/plain": "    residencia_departamento_nombre\n0                       La Matanza\n1              Malvinas Argentinas\n2               Esteban Echeverría\n3                            Tigre\n4                  Tres de Febrero\n..                             ...\n131                       Tapalqué\n132                     Pellegrini\n133                  General Guido\n134                       Tordillo\n135                        Capital\n\n[136 rows x 1 columns]",
      "text/html": "<div>\n<style scoped>\n    .dataframe tbody tr th:only-of-type {\n        vertical-align: middle;\n    }\n\n    .dataframe tbody tr th {\n        vertical-align: top;\n    }\n\n    .dataframe thead th {\n        text-align: right;\n    }\n</style>\n<table border=\"1\" class=\"dataframe\">\n  <thead>\n    <tr style=\"text-align: right;\">\n      <th></th>\n      <th>residencia_departamento_nombre</th>\n    </tr>\n  </thead>\n  <tbody>\n    <tr>\n      <th>0</th>\n      <td>La Matanza</td>\n    </tr>\n    <tr>\n      <th>1</th>\n      <td>Malvinas Argentinas</td>\n    </tr>\n    <tr>\n      <th>2</th>\n      <td>Esteban Echeverría</td>\n    </tr>\n    <tr>\n      <th>3</th>\n      <td>Tigre</td>\n    </tr>\n    <tr>\n      <th>4</th>\n      <td>Tres de Febrero</td>\n    </tr>\n    <tr>\n      <th>...</th>\n      <td>...</td>\n    </tr>\n    <tr>\n      <th>131</th>\n      <td>Tapalqué</td>\n    </tr>\n    <tr>\n      <th>132</th>\n      <td>Pellegrini</td>\n    </tr>\n    <tr>\n      <th>133</th>\n      <td>General Guido</td>\n    </tr>\n    <tr>\n      <th>134</th>\n      <td>Tordillo</td>\n    </tr>\n    <tr>\n      <th>135</th>\n      <td>Capital</td>\n    </tr>\n  </tbody>\n</table>\n<p>136 rows × 1 columns</p>\n</div>"
     },
     "metadata": {},
     "execution_count": 54
    }
   ],
   "source": [
    "sql_string = 'SELECT DISTINCT residencia_departamento_nombre FROM test_0 WHERE residencia_provincia_nombre=\"Buenos Aires\";'\n",
    "gg = pd.read_sql(sql_string, conn)\n",
    "gg"
   ]
  },
  {
   "cell_type": "code",
   "execution_count": 51,
   "metadata": {},
   "outputs": [
    {
     "output_type": "execute_result",
     "data": {
      "text/plain": "    residencia_departamento_nombre  count(*)\n0                       25 de Mayo       166\n1                       9 de Julio       233\n2                    Adolfo Alsina        30\n3           Adolfo Gonzales Chaves        32\n4                          Alberti       134\n..                             ...       ...\n131                Tres de Febrero     12561\n132                  Vicente López      7125\n133                   Villa Gesell       115\n134                      Villarino        94\n135                         Zárate      1995\n\n[136 rows x 2 columns]",
      "text/html": "<div>\n<style scoped>\n    .dataframe tbody tr th:only-of-type {\n        vertical-align: middle;\n    }\n\n    .dataframe tbody tr th {\n        vertical-align: top;\n    }\n\n    .dataframe thead th {\n        text-align: right;\n    }\n</style>\n<table border=\"1\" class=\"dataframe\">\n  <thead>\n    <tr style=\"text-align: right;\">\n      <th></th>\n      <th>residencia_departamento_nombre</th>\n      <th>count(*)</th>\n    </tr>\n  </thead>\n  <tbody>\n    <tr>\n      <th>0</th>\n      <td>25 de Mayo</td>\n      <td>166</td>\n    </tr>\n    <tr>\n      <th>1</th>\n      <td>9 de Julio</td>\n      <td>233</td>\n    </tr>\n    <tr>\n      <th>2</th>\n      <td>Adolfo Alsina</td>\n      <td>30</td>\n    </tr>\n    <tr>\n      <th>3</th>\n      <td>Adolfo Gonzales Chaves</td>\n      <td>32</td>\n    </tr>\n    <tr>\n      <th>4</th>\n      <td>Alberti</td>\n      <td>134</td>\n    </tr>\n    <tr>\n      <th>...</th>\n      <td>...</td>\n      <td>...</td>\n    </tr>\n    <tr>\n      <th>131</th>\n      <td>Tres de Febrero</td>\n      <td>12561</td>\n    </tr>\n    <tr>\n      <th>132</th>\n      <td>Vicente López</td>\n      <td>7125</td>\n    </tr>\n    <tr>\n      <th>133</th>\n      <td>Villa Gesell</td>\n      <td>115</td>\n    </tr>\n    <tr>\n      <th>134</th>\n      <td>Villarino</td>\n      <td>94</td>\n    </tr>\n    <tr>\n      <th>135</th>\n      <td>Zárate</td>\n      <td>1995</td>\n    </tr>\n  </tbody>\n</table>\n<p>136 rows × 2 columns</p>\n</div>"
     },
     "metadata": {},
     "execution_count": 51
    }
   ],
   "source": [
    "sql_string = 'SELECT DISTINCT residencia_departamento_nombre FROM test_0 WHERE residencia_provincia_nombre=\"Buenos Aires\";'\n",
    "sql_string = 'select residencia_departamento_nombre, count(*) from test_0 WHERE residencia_provincia_nombre=\"Buenos Aires\" group by residencia_departamento_nombre;'\n",
    "gg = pd.read_sql(sql_string, conn)\n",
    "gg\n",
    "\n",
    "\n"
   ]
  },
  {
   "cell_type": "code",
   "execution_count": 53,
   "metadata": {},
   "outputs": [
    {
     "output_type": "execute_result",
     "data": {
      "text/plain": "    residencia_departamento_nombre\n0                       La Matanza\n1              Malvinas Argentinas\n2               Esteban Echeverría\n3                            Tigre\n4                  Tres de Febrero\n..                             ...\n131                       Tapalqué\n132                     Pellegrini\n133                  General Guido\n134                       Tordillo\n135                        Capital\n\n[136 rows x 1 columns]",
      "text/html": "<div>\n<style scoped>\n    .dataframe tbody tr th:only-of-type {\n        vertical-align: middle;\n    }\n\n    .dataframe tbody tr th {\n        vertical-align: top;\n    }\n\n    .dataframe thead th {\n        text-align: right;\n    }\n</style>\n<table border=\"1\" class=\"dataframe\">\n  <thead>\n    <tr style=\"text-align: right;\">\n      <th></th>\n      <th>residencia_departamento_nombre</th>\n    </tr>\n  </thead>\n  <tbody>\n    <tr>\n      <th>0</th>\n      <td>La Matanza</td>\n    </tr>\n    <tr>\n      <th>1</th>\n      <td>Malvinas Argentinas</td>\n    </tr>\n    <tr>\n      <th>2</th>\n      <td>Esteban Echeverría</td>\n    </tr>\n    <tr>\n      <th>3</th>\n      <td>Tigre</td>\n    </tr>\n    <tr>\n      <th>4</th>\n      <td>Tres de Febrero</td>\n    </tr>\n    <tr>\n      <th>...</th>\n      <td>...</td>\n    </tr>\n    <tr>\n      <th>131</th>\n      <td>Tapalqué</td>\n    </tr>\n    <tr>\n      <th>132</th>\n      <td>Pellegrini</td>\n    </tr>\n    <tr>\n      <th>133</th>\n      <td>General Guido</td>\n    </tr>\n    <tr>\n      <th>134</th>\n      <td>Tordillo</td>\n    </tr>\n    <tr>\n      <th>135</th>\n      <td>Capital</td>\n    </tr>\n  </tbody>\n</table>\n<p>136 rows × 1 columns</p>\n</div>"
     },
     "metadata": {},
     "execution_count": 53
    }
   ],
   "source": [
    "sql_string = 'SELECT DISTINCT residencia_departamento_nombre FROM test_0 WHERE residencia_provincia_nombre=\"Buenos Aires\";'\n",
    "gg = pd.read_sql(sql_string, conn)\n",
    "gg"
   ]
  },
  {
   "cell_type": "code",
   "execution_count": 46,
   "metadata": {},
   "outputs": [
    {
     "output_type": "execute_result",
     "data": {
      "text/plain": "    residencia_departamento_nombre  count(*)\n0                       25 de Mayo        34\n1                       9 de Julio        18\n2                    Adolfo Alsina         2\n3           Adolfo Gonzales Chaves         1\n4                          Alberti        12\n..                             ...       ...\n125                Tres de Febrero      4812\n126                  Vicente López      2222\n127                   Villa Gesell         8\n128                      Villarino        11\n129                         Zárate       442\n\n[130 rows x 2 columns]",
      "text/html": "<div>\n<style scoped>\n    .dataframe tbody tr th:only-of-type {\n        vertical-align: middle;\n    }\n\n    .dataframe tbody tr th {\n        vertical-align: top;\n    }\n\n    .dataframe thead th {\n        text-align: right;\n    }\n</style>\n<table border=\"1\" class=\"dataframe\">\n  <thead>\n    <tr style=\"text-align: right;\">\n      <th></th>\n      <th>residencia_departamento_nombre</th>\n      <th>count(*)</th>\n    </tr>\n  </thead>\n  <tbody>\n    <tr>\n      <th>0</th>\n      <td>25 de Mayo</td>\n      <td>34</td>\n    </tr>\n    <tr>\n      <th>1</th>\n      <td>9 de Julio</td>\n      <td>18</td>\n    </tr>\n    <tr>\n      <th>2</th>\n      <td>Adolfo Alsina</td>\n      <td>2</td>\n    </tr>\n    <tr>\n      <th>3</th>\n      <td>Adolfo Gonzales Chaves</td>\n      <td>1</td>\n    </tr>\n    <tr>\n      <th>4</th>\n      <td>Alberti</td>\n      <td>12</td>\n    </tr>\n    <tr>\n      <th>...</th>\n      <td>...</td>\n      <td>...</td>\n    </tr>\n    <tr>\n      <th>125</th>\n      <td>Tres de Febrero</td>\n      <td>4812</td>\n    </tr>\n    <tr>\n      <th>126</th>\n      <td>Vicente López</td>\n      <td>2222</td>\n    </tr>\n    <tr>\n      <th>127</th>\n      <td>Villa Gesell</td>\n      <td>8</td>\n    </tr>\n    <tr>\n      <th>128</th>\n      <td>Villarino</td>\n      <td>11</td>\n    </tr>\n    <tr>\n      <th>129</th>\n      <td>Zárate</td>\n      <td>442</td>\n    </tr>\n  </tbody>\n</table>\n<p>130 rows × 2 columns</p>\n</div>"
     },
     "metadata": {},
     "execution_count": 46
    }
   ],
   "source": [
    "sql_string = 'select residencia_departamento_nombre, count(*) from test_0 WHERE carga_provincia_nombre=\"Buenos Aires\"  and clasificacion LIKE \"%Caso confirmado%\" group by residencia_departamento_nombre;'\n",
    "\n",
    "sql_string = 'SELECT residencia_departamento_nombre, count(*) FROM test_0 WHERE (residencia_provincia_nombre=\"Buenos Aires\"  AND clasificacion LIKE \"%Caso confirmado%\") group by residencia_departamento_nombre;'\n",
    "gg = pd.read_sql(sql_string, conn)\n",
    "gg"
   ]
  },
  {
   "cell_type": "code",
   "execution_count": 48,
   "metadata": {},
   "outputs": [
    {
     "output_type": "execute_result",
     "data": {
      "text/plain": "    residencia_departamento_nombre  count(*)\n0                       25 de Mayo        34\n1                       9 de Julio        18\n2                    Adolfo Alsina         2\n3           Adolfo Gonzales Chaves         1\n4                          Alberti        12\n..                             ...       ...\n125                Tres de Febrero      4812\n126                  Vicente López      2222\n127                   Villa Gesell         8\n128                      Villarino        11\n129                         Zárate       442\n\n[130 rows x 2 columns]",
      "text/html": "<div>\n<style scoped>\n    .dataframe tbody tr th:only-of-type {\n        vertical-align: middle;\n    }\n\n    .dataframe tbody tr th {\n        vertical-align: top;\n    }\n\n    .dataframe thead th {\n        text-align: right;\n    }\n</style>\n<table border=\"1\" class=\"dataframe\">\n  <thead>\n    <tr style=\"text-align: right;\">\n      <th></th>\n      <th>residencia_departamento_nombre</th>\n      <th>count(*)</th>\n    </tr>\n  </thead>\n  <tbody>\n    <tr>\n      <th>0</th>\n      <td>25 de Mayo</td>\n      <td>34</td>\n    </tr>\n    <tr>\n      <th>1</th>\n      <td>9 de Julio</td>\n      <td>18</td>\n    </tr>\n    <tr>\n      <th>2</th>\n      <td>Adolfo Alsina</td>\n      <td>2</td>\n    </tr>\n    <tr>\n      <th>3</th>\n      <td>Adolfo Gonzales Chaves</td>\n      <td>1</td>\n    </tr>\n    <tr>\n      <th>4</th>\n      <td>Alberti</td>\n      <td>12</td>\n    </tr>\n    <tr>\n      <th>...</th>\n      <td>...</td>\n      <td>...</td>\n    </tr>\n    <tr>\n      <th>125</th>\n      <td>Tres de Febrero</td>\n      <td>4812</td>\n    </tr>\n    <tr>\n      <th>126</th>\n      <td>Vicente López</td>\n      <td>2222</td>\n    </tr>\n    <tr>\n      <th>127</th>\n      <td>Villa Gesell</td>\n      <td>8</td>\n    </tr>\n    <tr>\n      <th>128</th>\n      <td>Villarino</td>\n      <td>11</td>\n    </tr>\n    <tr>\n      <th>129</th>\n      <td>Zárate</td>\n      <td>442</td>\n    </tr>\n  </tbody>\n</table>\n<p>130 rows × 2 columns</p>\n</div>"
     },
     "metadata": {},
     "execution_count": 48
    }
   ],
   "source": [
    "sql_string = 'SELECT residencia_departamento_nombre, count(*) FROM test_0 WHERE (residencia_provincia_nombre=\"Buenos Aires\"  AND clasificacion_resumen=\"Confirmado\") group by residencia_departamento_nombre;'\n",
    "gg = pd.read_sql(sql_string, conn)\n",
    "gg"
   ]
  },
  {
   "cell_type": "code",
   "execution_count": 44,
   "metadata": {},
   "outputs": [
    {
     "output_type": "execute_result",
     "data": {
      "text/plain": "   residencia_provincia_nombre  count(*)\n0                 Buenos Aires    128433\n1                         CABA     58205\n2                    Catamarca        60\n3                        Chaco      3381\n4                       Chubut       295\n5                   Corrientes       157\n6                      Córdoba      2733\n7                   Entre Ríos       935\n8                      Formosa        71\n9                        Jujuy      2881\n10                    La Pampa       165\n11                    La Rioja       400\n12                     Mendoza      1655\n13                    Misiones        48\n14                     Neuquén      1298\n15                   Río Negro      2311\n16             SIN ESPECIFICAR      1249\n17                       Salta       361\n18                    San Juan        21\n19                    San Luis        33\n20                  Santa Cruz       613\n21                    Santa Fe      1616\n22         Santiago del Estero        62\n23            Tierra del Fuego       733\n24                     Tucumán       315",
      "text/html": "<div>\n<style scoped>\n    .dataframe tbody tr th:only-of-type {\n        vertical-align: middle;\n    }\n\n    .dataframe tbody tr th {\n        vertical-align: top;\n    }\n\n    .dataframe thead th {\n        text-align: right;\n    }\n</style>\n<table border=\"1\" class=\"dataframe\">\n  <thead>\n    <tr style=\"text-align: right;\">\n      <th></th>\n      <th>residencia_provincia_nombre</th>\n      <th>count(*)</th>\n    </tr>\n  </thead>\n  <tbody>\n    <tr>\n      <th>0</th>\n      <td>Buenos Aires</td>\n      <td>128433</td>\n    </tr>\n    <tr>\n      <th>1</th>\n      <td>CABA</td>\n      <td>58205</td>\n    </tr>\n    <tr>\n      <th>2</th>\n      <td>Catamarca</td>\n      <td>60</td>\n    </tr>\n    <tr>\n      <th>3</th>\n      <td>Chaco</td>\n      <td>3381</td>\n    </tr>\n    <tr>\n      <th>4</th>\n      <td>Chubut</td>\n      <td>295</td>\n    </tr>\n    <tr>\n      <th>5</th>\n      <td>Corrientes</td>\n      <td>157</td>\n    </tr>\n    <tr>\n      <th>6</th>\n      <td>Córdoba</td>\n      <td>2733</td>\n    </tr>\n    <tr>\n      <th>7</th>\n      <td>Entre Ríos</td>\n      <td>935</td>\n    </tr>\n    <tr>\n      <th>8</th>\n      <td>Formosa</td>\n      <td>71</td>\n    </tr>\n    <tr>\n      <th>9</th>\n      <td>Jujuy</td>\n      <td>2881</td>\n    </tr>\n    <tr>\n      <th>10</th>\n      <td>La Pampa</td>\n      <td>165</td>\n    </tr>\n    <tr>\n      <th>11</th>\n      <td>La Rioja</td>\n      <td>400</td>\n    </tr>\n    <tr>\n      <th>12</th>\n      <td>Mendoza</td>\n      <td>1655</td>\n    </tr>\n    <tr>\n      <th>13</th>\n      <td>Misiones</td>\n      <td>48</td>\n    </tr>\n    <tr>\n      <th>14</th>\n      <td>Neuquén</td>\n      <td>1298</td>\n    </tr>\n    <tr>\n      <th>15</th>\n      <td>Río Negro</td>\n      <td>2311</td>\n    </tr>\n    <tr>\n      <th>16</th>\n      <td>SIN ESPECIFICAR</td>\n      <td>1249</td>\n    </tr>\n    <tr>\n      <th>17</th>\n      <td>Salta</td>\n      <td>361</td>\n    </tr>\n    <tr>\n      <th>18</th>\n      <td>San Juan</td>\n      <td>21</td>\n    </tr>\n    <tr>\n      <th>19</th>\n      <td>San Luis</td>\n      <td>33</td>\n    </tr>\n    <tr>\n      <th>20</th>\n      <td>Santa Cruz</td>\n      <td>613</td>\n    </tr>\n    <tr>\n      <th>21</th>\n      <td>Santa Fe</td>\n      <td>1616</td>\n    </tr>\n    <tr>\n      <th>22</th>\n      <td>Santiago del Estero</td>\n      <td>62</td>\n    </tr>\n    <tr>\n      <th>23</th>\n      <td>Tierra del Fuego</td>\n      <td>733</td>\n    </tr>\n    <tr>\n      <th>24</th>\n      <td>Tucumán</td>\n      <td>315</td>\n    </tr>\n  </tbody>\n</table>\n</div>"
     },
     "metadata": {},
     "execution_count": 44
    }
   ],
   "source": [
    "sql_string = 'SELECT residencia_provincia_nombre, count(*) FROM test_0 WHERE (clasificacion_resumen=\"Confirmado\") group by residencia_provincia_nombre;'\n",
    "#sql_string = 'SELECT carga_provincia_nombre, count(*) FROM test_0 WHERE (clasificacion_resumen=\"Confirmado\") group by carga_provincia_nombre;'\n",
    "gg = pd.read_sql(sql_string, conn)\n",
    "gg"
   ]
  },
  {
   "cell_type": "code",
   "execution_count": 49,
   "metadata": {},
   "outputs": [
    {
     "output_type": "execute_result",
     "data": {
      "text/plain": "   count(*)\n0    208031",
      "text/html": "<div>\n<style scoped>\n    .dataframe tbody tr th:only-of-type {\n        vertical-align: middle;\n    }\n\n    .dataframe tbody tr th {\n        vertical-align: top;\n    }\n\n    .dataframe thead th {\n        text-align: right;\n    }\n</style>\n<table border=\"1\" class=\"dataframe\">\n  <thead>\n    <tr style=\"text-align: right;\">\n      <th></th>\n      <th>count(*)</th>\n    </tr>\n  </thead>\n  <tbody>\n    <tr>\n      <th>0</th>\n      <td>208031</td>\n    </tr>\n  </tbody>\n</table>\n</div>"
     },
     "metadata": {},
     "execution_count": 49
    }
   ],
   "source": [
    "sql_string = 'SELECT count(*) FROM test_0 WHERE (clasificacion_resumen=\"Confirmado\");'\n",
    "gg = pd.read_sql(sql_string, conn)\n",
    "gg"
   ]
  },
  {
   "cell_type": "code",
   "execution_count": null,
   "metadata": {},
   "outputs": [],
   "source": []
  }
 ]
}