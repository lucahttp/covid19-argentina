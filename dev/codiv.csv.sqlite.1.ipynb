{
 "cells": [
  {
   "cell_type": "markdown",
   "metadata": {},
   "source": [
    "#Work as SQL"
   ]
  },
  {
   "cell_type": "code",
   "execution_count": 1,
   "metadata": {},
   "outputs": [],
   "source": [
    "import pandas as pd \n",
    "import sqlite3"
   ]
  },
  {
   "cell_type": "code",
   "execution_count": 9,
   "metadata": {},
   "outputs": [],
   "source": [
    "#Downloader\n",
    "# https://stackoverflow.com/questions/22676/how-do-i-download-a-file-over-http-using-python\n",
    "url = \"https://sisa.msal.gov.ar/datos/descargas/covid-19/files/Covid19Casos.csv\"\n",
    "\n",
    "\n",
    "import os,requests\n",
    "def download(url):\n",
    "    get_response = requests.get(url,stream=True)\n",
    "    file_name  = url.split(\"/\")[-1]\n",
    "    with open(file_name, 'wb') as f:\n",
    "        for chunk in get_response.iter_content(chunk_size=1024):\n",
    "            if chunk: # filter out keep-alive new chunks\n",
    "                f.write(chunk)\n",
    "download(url)\n",
    "\n"
   ]
  },
  {
   "cell_type": "code",
   "execution_count": null,
   "metadata": {},
   "outputs": [],
   "source": [
    "pip3 install wget"
   ]
  },
  {
   "cell_type": "code",
   "execution_count": 20,
   "metadata": {
    "tags": [
     "outputPrepend"
    ]
   },
   "outputs": [
    {
     "output_type": "stream",
     "name": "stdout",
     "text": "8352 / 173302083] bytes\nDownloading: 98% [169836544 / 173302083] bytes\nDownloading: 98% [169844736 / 173302083] bytes\nDownloading: 98% [169852928 / 173302083] bytes\nDownloading: 98% [169861120 / 173302083] bytes\nDownloading: 98% [169869312 / 173302083] bytes\nDownloading: 98% [169877504 / 173302083] bytes\nDownloading: 98% [169885696 / 173302083] bytes\nDownloading: 98% [169893888 / 173302083] bytes\nDownloading: 98% [169902080 / 173302083] bytes\nDownloading: 98% [169910272 / 173302083] bytes\nDownloading: 98% [169918464 / 173302083] bytes\nDownloading: 98% [169926656 / 173302083] bytes\nDownloading: 98% [169934848 / 173302083] bytes\nDownloading: 98% [169943040 / 173302083] bytes\nDownloading: 98% [169951232 / 173302083] bytes\nDownloading: 98% [169959424 / 173302083] bytes\nDownloading: 98% [169967616 / 173302083] bytes\nDownloading: 98% [169975808 / 173302083] bytes\nDownloading: 98% [169984000 / 173302083] bytes\nDownloading: 98% [169992192 / 173302083] bytes\nDownloading: 98% [170000384 / 173302083] bytes\nDownloading: 98% [170008576 / 173302083] bytes\nDownloading: 98% [170016768 / 173302083] bytes\nDownloading: 98% [170024960 / 173302083] bytes\nDownloading: 98% [170033152 / 173302083] bytes\nDownloading: 98% [170041344 / 173302083] bytes\nDownloading: 98% [170049536 / 173302083] bytes\nDownloading: 98% [170057728 / 173302083] bytes\nDownloading: 98% [170065920 / 173302083] bytes\nDownloading: 98% [170074112 / 173302083] bytes\nDownloading: 98% [170082304 / 173302083] bytes\nDownloading: 98% [170090496 / 173302083] bytes\nDownloading: 98% [170098688 / 173302083] bytes\nDownloading: 98% [170106880 / 173302083] bytes\nDownloading: 98% [170115072 / 173302083] bytes\nDownloading: 98% [170123264 / 173302083] bytes\nDownloading: 98% [170131456 / 173302083] bytes\nDownloading: 98% [170139648 / 173302083] bytes\nDownloading: 98% [170147840 / 173302083] bytes\nDownloading: 98% [170156032 / 173302083] bytes\nDownloading: 98% [170164224 / 173302083] bytes\nDownloading: 98% [170172416 / 173302083] bytes\nDownloading: 98% [170180608 / 173302083] bytes\nDownloading: 98% [170188800 / 173302083] bytes\nDownloading: 98% [170196992 / 173302083] bytes\nDownloading: 98% [170205184 / 173302083] bytes\nDownloading: 98% [170213376 / 173302083] bytes\nDownloading: 98% [170221568 / 173302083] bytes\nDownloading: 98% [170229760 / 173302083] bytes\nDownloading: 98% [170237952 / 173302083] bytes\nDownloading: 98% [170246144 / 173302083] bytes\nDownloading: 98% [170254336 / 173302083] bytes\nDownloading: 98% [170262528 / 173302083] bytes\nDownloading: 98% [170270720 / 173302083] bytes\nDownloading: 98% [170278912 / 173302083] bytes\nDownloading: 98% [170287104 / 173302083] bytes\nDownloading: 98% [170295296 / 173302083] bytes\nDownloading: 98% [170303488 / 173302083] bytes\nDownloading: 98% [170311680 / 173302083] bytes\nDownloading: 98% [170319872 / 173302083] bytes\nDownloading: 98% [170328064 / 173302083] bytes\nDownloading: 98% [170336256 / 173302083] bytes\nDownloading: 98% [170344448 / 173302083] bytes\nDownloading: 98% [170352640 / 173302083] bytes\nDownloading: 98% [170360832 / 173302083] bytes\nDownloading: 98% [170369024 / 173302083] bytes\nDownloading: 98% [170377216 / 173302083] bytes\nDownloading: 98% [170385408 / 173302083] bytes\nDownloading: 98% [170393600 / 173302083] bytes\nDownloading: 98% [170401792 / 173302083] bytes\nDownloading: 98% [170409984 / 173302083] bytes\nDownloading: 98% [170418176 / 173302083] bytes\nDownloading: 98% [170426368 / 173302083] bytes\nDownloading: 98% [170434560 / 173302083] bytes\nDownloading: 98% [170442752 / 173302083] bytes\nDownloading: 98% [170450944 / 173302083] bytes\nDownloading: 98% [170459136 / 173302083] bytes\nDownloading: 98% [170467328 / 173302083] bytes\nDownloading: 98% [170475520 / 173302083] bytes\nDownloading: 98% [170483712 / 173302083] bytes\nDownloading: 98% [170491904 / 173302083] bytes\nDownloading: 98% [170500096 / 173302083] bytes\nDownloading: 98% [170508288 / 173302083] bytes\nDownloading: 98% [170516480 / 173302083] bytes\nDownloading: 98% [170524672 / 173302083] bytes\nDownloading: 98% [170532864 / 173302083] bytes\nDownloading: 98% [170541056 / 173302083] bytes\nDownloading: 98% [170549248 / 173302083] bytes\nDownloading: 98% [170557440 / 173302083] bytes\nDownloading: 98% [170565632 / 173302083] bytes\nDownloading: 98% [170573824 / 173302083] bytes\nDownloading: 98% [170582016 / 173302083] bytes\nDownloading: 98% [170590208 / 173302083] bytes\nDownloading: 98% [170598400 / 173302083] bytes\nDownloading: 98% [170606592 / 173302083] bytes\nDownloading: 98% [170614784 / 173302083] bytes\nDownloading: 98% [170622976 / 173302083] bytes\nDownloading: 98% [170631168 / 173302083] bytes\nDownloading: 98% [170639360 / 173302083] bytes\nDownloading: 98% [170647552 / 173302083] bytes\nDownloading: 98% [170655744 / 173302083] bytes\nDownloading: 98% [170663936 / 173302083] bytes\nDownloading: 98% [170672128 / 173302083] bytes\nDownloading: 98% [170680320 / 173302083] bytes\nDownloading: 98% [170688512 / 173302083] bytes\nDownloading: 98% [170696704 / 173302083] bytes\nDownloading: 98% [170704896 / 173302083] bytes\nDownloading: 98% [170713088 / 173302083] bytes\nDownloading: 98% [170721280 / 173302083] bytes\nDownloading: 98% [170729472 / 173302083] bytes\nDownloading: 98% [170737664 / 173302083] bytes\nDownloading: 98% [170745856 / 173302083] bytes\nDownloading: 98% [170754048 / 173302083] bytes\nDownloading: 98% [170762240 / 173302083] bytes\nDownloading: 98% [170770432 / 173302083] bytes\nDownloading: 98% [170778624 / 173302083] bytes\nDownloading: 98% [170786816 / 173302083] bytes\nDownloading: 98% [170795008 / 173302083] bytes\nDownloading: 98% [170803200 / 173302083] bytes\nDownloading: 98% [170811392 / 173302083] bytes\nDownloading: 98% [170819584 / 173302083] bytes\nDownloading: 98% [170827776 / 173302083] bytes\nDownloading: 98% [170835968 / 173302083] bytes\nDownloading: 98% [170844160 / 173302083] bytes\nDownloading: 98% [170852352 / 173302083] bytes\nDownloading: 98% [170860544 / 173302083] bytes\nDownloading: 98% [170868736 / 173302083] bytes\nDownloading: 98% [170876928 / 173302083] bytes\nDownloading: 98% [170885120 / 173302083] bytes\nDownloading: 98% [170893312 / 173302083] bytes\nDownloading: 98% [170901504 / 173302083] bytes\nDownloading: 98% [170909696 / 173302083] bytes\nDownloading: 98% [170917888 / 173302083] bytes\nDownloading: 98% [170926080 / 173302083] bytes\nDownloading: 98% [170934272 / 173302083] bytes\nDownloading: 98% [170942464 / 173302083] bytes\nDownloading: 98% [170950656 / 173302083] bytes\nDownloading: 98% [170958848 / 173302083] bytes\nDownloading: 98% [170967040 / 173302083] bytes\nDownloading: 98% [170975232 / 173302083] bytes\nDownloading: 98% [170983424 / 173302083] bytes\nDownloading: 98% [170991616 / 173302083] bytes\nDownloading: 98% [170999808 / 173302083] bytes\nDownloading: 98% [171008000 / 173302083] bytes\nDownloading: 98% [171016192 / 173302083] bytes\nDownloading: 98% [171024384 / 173302083] bytes\nDownloading: 98% [171032576 / 173302083] bytes\nDownloading: 98% [171040768 / 173302083] bytes\nDownloading: 98% [171048960 / 173302083] bytes\nDownloading: 98% [171057152 / 173302083] bytes\nDownloading: 98% [171065344 / 173302083] bytes\nDownloading: 98% [171073536 / 173302083] bytes\nDownloading: 98% [171081728 / 173302083] bytes\nDownloading: 98% [171089920 / 173302083] bytes\nDownloading: 98% [171098112 / 173302083] bytes\nDownloading: 98% [171106304 / 173302083] bytes\nDownloading: 98% [171114496 / 173302083] bytes\nDownloading: 98% [171122688 / 173302083] bytes\nDownloading: 98% [171130880 / 173302083] bytes\nDownloading: 98% [171139072 / 173302083] bytes\nDownloading: 98% [171147264 / 173302083] bytes\nDownloading: 98% [171155456 / 173302083] bytes\nDownloading: 98% [171163648 / 173302083] bytes\nDownloading: 98% [171171840 / 173302083] bytes\nDownloading: 98% [171180032 / 173302083] bytes\nDownloading: 98% [171188224 / 173302083] bytes\nDownloading: 98% [171196416 / 173302083] bytes\nDownloading: 98% [171204608 / 173302083] bytes\nDownloading: 98% [171212800 / 173302083] bytes\nDownloading: 98% [171220992 / 173302083] bytes\nDownloading: 98% [171229184 / 173302083] bytes\nDownloading: 98% [171237376 / 173302083] bytes\nDownloading: 98% [171245568 / 173302083] bytes\nDownloading: 98% [171253760 / 173302083] bytes\nDownloading: 98% [171261952 / 173302083] bytes\nDownloading: 98% [171270144 / 173302083] bytes\nDownloading: 98% [171278336 / 173302083] bytes\nDownloading: 98% [171286528 / 173302083] bytes\nDownloading: 98% [171294720 / 173302083] bytes\nDownloading: 98% [171302912 / 173302083] bytes\nDownloading: 98% [171311104 / 173302083] bytes\nDownloading: 98% [171319296 / 173302083] bytes\nDownloading: 98% [171327488 / 173302083] bytes\nDownloading: 98% [171335680 / 173302083] bytes\nDownloading: 98% [171343872 / 173302083] bytes\nDownloading: 98% [171352064 / 173302083] bytes\nDownloading: 98% [171360256 / 173302083] bytes\nDownloading: 98% [171368448 / 173302083] bytes\nDownloading: 98% [171376640 / 173302083] bytes\nDownloading: 98% [171384832 / 173302083] bytes\nDownloading: 98% [171393024 / 173302083] bytes\nDownloading: 98% [171401216 / 173302083] bytes\nDownloading: 98% [171409408 / 173302083] bytes\nDownloading: 98% [171417600 / 173302083] bytes\nDownloading: 98% [171425792 / 173302083] bytes\nDownloading: 98% [171433984 / 173302083] bytes\nDownloading: 98% [171442176 / 173302083] bytes\nDownloading: 98% [171450368 / 173302083] bytes\nDownloading: 98% [171458560 / 173302083] bytes\nDownloading: 98% [171466752 / 173302083] bytes\nDownloading: 98% [171474944 / 173302083] bytes\nDownloading: 98% [171483136 / 173302083] bytes\nDownloading: 98% [171491328 / 173302083] bytes\nDownloading: 98% [171499520 / 173302083] bytes\nDownloading: 98% [171507712 / 173302083] bytes\nDownloading: 98% [171515904 / 173302083] bytes\nDownloading: 98% [171524096 / 173302083] bytes\nDownloading: 98% [171532288 / 173302083] bytes\nDownloading: 98% [171540480 / 173302083] bytes\nDownloading: 98% [171548672 / 173302083] bytes\nDownloading: 98% [171556864 / 173302083] bytes\nDownloading: 98% [171565056 / 173302083] bytes\nDownloading: 99% [171573248 / 173302083] bytes\nDownloading: 99% [171581440 / 173302083] bytes\nDownloading: 99% [171589632 / 173302083] bytes\nDownloading: 99% [171597824 / 173302083] bytes\nDownloading: 99% [171606016 / 173302083] bytes\nDownloading: 99% [171614208 / 173302083] bytes\nDownloading: 99% [171622400 / 173302083] bytes\nDownloading: 99% [171630592 / 173302083] bytes\nDownloading: 99% [171638784 / 173302083] bytes\nDownloading: 99% [171646976 / 173302083] bytes\nDownloading: 99% [171655168 / 173302083] bytes\nDownloading: 99% [171663360 / 173302083] bytes\nDownloading: 99% [171671552 / 173302083] bytes\nDownloading: 99% [171679744 / 173302083] bytes\nDownloading: 99% [171687936 / 173302083] bytes\nDownloading: 99% [171696128 / 173302083] bytes\nDownloading: 99% [171704320 / 173302083] bytes\nDownloading: 99% [171712512 / 173302083] bytes\nDownloading: 99% [171720704 / 173302083] bytes\nDownloading: 99% [171728896 / 173302083] bytes\nDownloading: 99% [171737088 / 173302083] bytes\nDownloading: 99% [171745280 / 173302083] bytes\nDownloading: 99% [171753472 / 173302083] bytes\nDownloading: 99% [171761664 / 173302083] bytes\nDownloading: 99% [171769856 / 173302083] bytes\nDownloading: 99% [171778048 / 173302083] bytes\nDownloading: 99% [171786240 / 173302083] bytes\nDownloading: 99% [171794432 / 173302083] bytes\nDownloading: 99% [171802624 / 173302083] bytes\nDownloading: 99% [171810816 / 173302083] bytes\nDownloading: 99% [171819008 / 173302083] bytes\nDownloading: 99% [171827200 / 173302083] bytes\nDownloading: 99% [171835392 / 173302083] bytes\nDownloading: 99% [171843584 / 173302083] bytes\nDownloading: 99% [171851776 / 173302083] bytes\nDownloading: 99% [171859968 / 173302083] bytes\nDownloading: 99% [171868160 / 173302083] bytes\nDownloading: 99% [171876352 / 173302083] bytes\nDownloading: 99% [171884544 / 173302083] bytes\nDownloading: 99% [171892736 / 173302083] bytes\nDownloading: 99% [171900928 / 173302083] bytes\nDownloading: 99% [171909120 / 173302083] bytes\nDownloading: 99% [171917312 / 173302083] bytes\nDownloading: 99% [171925504 / 173302083] bytes\nDownloading: 99% [171933696 / 173302083] bytes\nDownloading: 99% [171941888 / 173302083] bytes\nDownloading: 99% [171950080 / 173302083] bytes\nDownloading: 99% [171958272 / 173302083] bytes\nDownloading: 99% [171966464 / 173302083] bytes\nDownloading: 99% [171974656 / 173302083] bytes\nDownloading: 99% [171982848 / 173302083] bytes\nDownloading: 99% [171991040 / 173302083] bytes\nDownloading: 99% [171999232 / 173302083] bytes\nDownloading: 99% [172007424 / 173302083] bytes\nDownloading: 99% [172015616 / 173302083] bytes\nDownloading: 99% [172023808 / 173302083] bytes\nDownloading: 99% [172032000 / 173302083] bytes\nDownloading: 99% [172040192 / 173302083] bytes\nDownloading: 99% [172048384 / 173302083] bytes\nDownloading: 99% [172056576 / 173302083] bytes\nDownloading: 99% [172064768 / 173302083] bytes\nDownloading: 99% [172072960 / 173302083] bytes\nDownloading: 99% [172081152 / 173302083] bytes\nDownloading: 99% [172089344 / 173302083] bytes\nDownloading: 99% [172097536 / 173302083] bytes\nDownloading: 99% [172105728 / 173302083] bytes\nDownloading: 99% [172113920 / 173302083] bytes\nDownloading: 99% [172122112 / 173302083] bytes\nDownloading: 99% [172130304 / 173302083] bytes\nDownloading: 99% [172138496 / 173302083] bytes\nDownloading: 99% [172146688 / 173302083] bytes\nDownloading: 99% [172154880 / 173302083] bytes\nDownloading: 99% [172163072 / 173302083] bytes\nDownloading: 99% [172171264 / 173302083] bytes\nDownloading: 99% [172179456 / 173302083] bytes\nDownloading: 99% [172187648 / 173302083] bytes\nDownloading: 99% [172195840 / 173302083] bytes\nDownloading: 99% [172204032 / 173302083] bytes\nDownloading: 99% [172212224 / 173302083] bytes\nDownloading: 99% [172220416 / 173302083] bytes\nDownloading: 99% [172228608 / 173302083] bytes\nDownloading: 99% [172236800 / 173302083] bytes\nDownloading: 99% [172244992 / 173302083] bytes\nDownloading: 99% [172253184 / 173302083] bytes\nDownloading: 99% [172261376 / 173302083] bytes\nDownloading: 99% [172269568 / 173302083] bytes\nDownloading: 99% [172277760 / 173302083] bytes\nDownloading: 99% [172285952 / 173302083] bytes\nDownloading: 99% [172294144 / 173302083] bytes\nDownloading: 99% [172302336 / 173302083] bytes\nDownloading: 99% [172310528 / 173302083] bytes\nDownloading: 99% [172318720 / 173302083] bytes\nDownloading: 99% [172326912 / 173302083] bytes\nDownloading: 99% [172335104 / 173302083] bytes\nDownloading: 99% [172343296 / 173302083] bytes\nDownloading: 99% [172351488 / 173302083] bytes\nDownloading: 99% [172359680 / 173302083] bytes\nDownloading: 99% [172367872 / 173302083] bytes\nDownloading: 99% [172376064 / 173302083] bytes\nDownloading: 99% [172384256 / 173302083] bytes\nDownloading: 99% [172392448 / 173302083] bytes\nDownloading: 99% [172400640 / 173302083] bytes\nDownloading: 99% [172408832 / 173302083] bytes\nDownloading: 99% [172417024 / 173302083] bytes\nDownloading: 99% [172425216 / 173302083] bytes\nDownloading: 99% [172433408 / 173302083] bytes\nDownloading: 99% [172441600 / 173302083] bytes\nDownloading: 99% [172449792 / 173302083] bytes\nDownloading: 99% [172457984 / 173302083] bytes\nDownloading: 99% [172466176 / 173302083] bytes\nDownloading: 99% [172474368 / 173302083] bytes\nDownloading: 99% [172482560 / 173302083] bytes\nDownloading: 99% [172490752 / 173302083] bytes\nDownloading: 99% [172498944 / 173302083] bytes\nDownloading: 99% [172507136 / 173302083] bytes\nDownloading: 99% [172515328 / 173302083] bytes\nDownloading: 99% [172523520 / 173302083] bytes\nDownloading: 99% [172531712 / 173302083] bytes\nDownloading: 99% [172539904 / 173302083] bytes\nDownloading: 99% [172548096 / 173302083] bytes\nDownloading: 99% [172556288 / 173302083] bytes\nDownloading: 99% [172564480 / 173302083] bytes\nDownloading: 99% [172572672 / 173302083] bytes\nDownloading: 99% [172580864 / 173302083] bytes\nDownloading: 99% [172589056 / 173302083] bytes\nDownloading: 99% [172597248 / 173302083] bytes\nDownloading: 99% [172605440 / 173302083] bytes\nDownloading: 99% [172613632 / 173302083] bytes\nDownloading: 99% [172621824 / 173302083] bytes\nDownloading: 99% [172630016 / 173302083] bytes\nDownloading: 99% [172638208 / 173302083] bytes\nDownloading: 99% [172646400 / 173302083] bytes\nDownloading: 99% [172654592 / 173302083] bytes\nDownloading: 99% [172662784 / 173302083] bytes\nDownloading: 99% [172670976 / 173302083] bytes\nDownloading: 99% [172679168 / 173302083] bytes\nDownloading: 99% [172687360 / 173302083] bytes\nDownloading: 99% [172695552 / 173302083] bytes\nDownloading: 99% [172703744 / 173302083] bytes\nDownloading: 99% [172711936 / 173302083] bytes\nDownloading: 99% [172720128 / 173302083] bytes\nDownloading: 99% [172728320 / 173302083] bytes\nDownloading: 99% [172736512 / 173302083] bytes\nDownloading: 99% [172744704 / 173302083] bytes\nDownloading: 99% [172752896 / 173302083] bytes\nDownloading: 99% [172761088 / 173302083] bytes\nDownloading: 99% [172769280 / 173302083] bytes\nDownloading: 99% [172777472 / 173302083] bytes\nDownloading: 99% [172785664 / 173302083] bytes\nDownloading: 99% [172793856 / 173302083] bytes\nDownloading: 99% [172802048 / 173302083] bytes\nDownloading: 99% [172810240 / 173302083] bytes\nDownloading: 99% [172818432 / 173302083] bytes\nDownloading: 99% [172826624 / 173302083] bytes\nDownloading: 99% [172834816 / 173302083] bytes\nDownloading: 99% [172843008 / 173302083] bytes\nDownloading: 99% [172851200 / 173302083] bytes\nDownloading: 99% [172859392 / 173302083] bytes\nDownloading: 99% [172867584 / 173302083] bytes\nDownloading: 99% [172875776 / 173302083] bytes\nDownloading: 99% [172883968 / 173302083] bytes\nDownloading: 99% [172892160 / 173302083] bytes\nDownloading: 99% [172900352 / 173302083] bytes\nDownloading: 99% [172908544 / 173302083] bytes\nDownloading: 99% [172916736 / 173302083] bytes\nDownloading: 99% [172924928 / 173302083] bytes\nDownloading: 99% [172933120 / 173302083] bytes\nDownloading: 99% [172941312 / 173302083] bytes\nDownloading: 99% [172949504 / 173302083] bytes\nDownloading: 99% [172957696 / 173302083] bytes\nDownloading: 99% [172965888 / 173302083] bytes\nDownloading: 99% [172974080 / 173302083] bytes\nDownloading: 99% [172982272 / 173302083] bytes\nDownloading: 99% [172990464 / 173302083] bytes\nDownloading: 99% [172998656 / 173302083] bytes\nDownloading: 99% [173006848 / 173302083] bytes\nDownloading: 99% [173015040 / 173302083] bytes\nDownloading: 99% [173023232 / 173302083] bytes\nDownloading: 99% [173031424 / 173302083] bytes\nDownloading: 99% [173039616 / 173302083] bytes\nDownloading: 99% [173047808 / 173302083] bytes\nDownloading: 99% [173056000 / 173302083] bytes\nDownloading: 99% [173064192 / 173302083] bytes\nDownloading: 99% [173072384 / 173302083] bytes\nDownloading: 99% [173080576 / 173302083] bytes\nDownloading: 99% [173088768 / 173302083] bytes\nDownloading: 99% [173096960 / 173302083] bytes\nDownloading: 99% [173105152 / 173302083] bytes\nDownloading: 99% [173113344 / 173302083] bytes\nDownloading: 99% [173121536 / 173302083] bytes\nDownloading: 99% [173129728 / 173302083] bytes\nDownloading: 99% [173137920 / 173302083] bytes\nDownloading: 99% [173146112 / 173302083] bytes\nDownloading: 99% [173154304 / 173302083] bytes\nDownloading: 99% [173162496 / 173302083] bytes\nDownloading: 99% [173170688 / 173302083] bytes\nDownloading: 99% [173178880 / 173302083] bytes\nDownloading: 99% [173187072 / 173302083] bytes\nDownloading: 99% [173195264 / 173302083] bytes\nDownloading: 99% [173203456 / 173302083] bytes\nDownloading: 99% [173211648 / 173302083] bytes\nDownloading: 99% [173219840 / 173302083] bytes\nDownloading: 99% [173228032 / 173302083] bytes\nDownloading: 99% [173236224 / 173302083] bytes\nDownloading: 99% [173244416 / 173302083] bytes\nDownloading: 99% [173252608 / 173302083] bytes\nDownloading: 99% [173260800 / 173302083] bytes\nDownloading: 99% [173268992 / 173302083] bytes\nDownloading: 99% [173277184 / 173302083] bytes\nDownloading: 99% [173285376 / 173302083] bytes\nDownloading: 99% [173293568 / 173302083] bytes\nDownloading: 99% [173301760 / 173302083] bytes\nDownloading: 100% [173302083 / 173302083] bytes\n"
    }
   ],
   "source": [
    "#Downloader\n",
    "# https://medium.com/@petehouston/download-files-with-progress-in-python-96f14f6417a2\n",
    "url = \"https://sisa.msal.gov.ar/datos/descargas/covid-19/files/Covid19Casos.csv\"\n",
    "\n",
    "import wget\n",
    "def download(url):\n",
    "    def bar_custom(current, total, width=80):\n",
    "        print(\"Downloading: %d%% [%d / %d] bytes\" % (current / total * 100, current, total))\n",
    "    wget.download(url,'./test/',bar=bar_custom)\n",
    "\n",
    "download(url)\n"
   ]
  },
  {
   "cell_type": "code",
   "execution_count": 3,
   "metadata": {},
   "outputs": [],
   "source": [
    "#read the CSV\n",
    "df = pd.read_csv('./data/casoscovid19.csv')\n",
    "#connect to a database\n",
    "conn = sqlite3.connect(\"casoscovid19.db\") #if the db does not exist, this creates a Any_Database_Name.db file in the current directory\n",
    "#store your table in the database:\n",
    "\n",
    "\n",
    "cursor = conn.cursor()\n",
    "#Doping EMPLOYEE table if already exists\n",
    "cursor.execute(\"DROP TABLE IF EXISTS test_0\")\n",
    "#print(\"Table dropped... \")\n",
    "#Commit your changes in the database\n",
    "conn.commit()\n",
    "#Closing the connection\n",
    "#conn.close()\n",
    "# https://www.tutorialspoint.com/python_sqlite/python_sqlite_drop_table.htm\n",
    "\n",
    "#gg = pd.read_sql('DROP TABLE IF EXISTS test_0;', conn)\n",
    "#pd.read_sql_query('DROP TABLE IF EXISTS test_0;', conn)\n",
    "df.to_sql('test_0', conn)"
   ]
  },
  {
   "cell_type": "code",
   "execution_count": 4,
   "metadata": {},
   "outputs": [],
   "source": [
    "#connect to a database\n",
    "conn = sqlite3.connect(\"casoscovid19.db\") \n",
    "#if the db does not exist, this creates a Any_Database_Name.db file in the current directory"
   ]
  },
  {
   "cell_type": "code",
   "execution_count": 5,
   "metadata": {},
   "outputs": [
    {
     "output_type": "execute_result",
     "data": {
      "text/plain": "    Total  Confirmados  Recuperados  Fallecidos\n0  791878       235664       165065        4411",
      "text/html": "<div>\n<style scoped>\n    .dataframe tbody tr th:only-of-type {\n        vertical-align: middle;\n    }\n\n    .dataframe tbody tr th {\n        vertical-align: top;\n    }\n\n    .dataframe thead th {\n        text-align: right;\n    }\n</style>\n<table border=\"1\" class=\"dataframe\">\n  <thead>\n    <tr style=\"text-align: right;\">\n      <th></th>\n      <th>Total</th>\n      <th>Confirmados</th>\n      <th>Recuperados</th>\n      <th>Fallecidos</th>\n    </tr>\n  </thead>\n  <tbody>\n    <tr>\n      <th>0</th>\n      <td>791878</td>\n      <td>235664</td>\n      <td>165065</td>\n      <td>4411</td>\n    </tr>\n  </tbody>\n</table>\n</div>"
     },
     "metadata": {},
     "execution_count": 5
    }
   ],
   "source": [
    "# table argentina\n",
    "# Provincia\tCasos Confirmados Totales\tRecuperados\tFallecidos\n",
    "sql_string = '''SELECT count(*) AS Total,\n",
    "    sum(case when clasificacion_resumen=\"Confirmado\" then 1 else 0 end) AS Confirmados,\n",
    "    sum(case when clasificacion LIKE \"%No Activo%\" then 1 else 0 end) AS Recuperados,\n",
    "    sum(case when clasificacion = \"Caso confirmado - Fallecido\" then 1 else 0 end) AS Fallecidos\n",
    "FROM test_0;\n",
    "'''\n",
    "gg = pd.read_sql(sql_string, conn)\n",
    "gg"
   ]
  },
  {
   "cell_type": "code",
   "execution_count": 6,
   "metadata": {},
   "outputs": [
    {
     "output_type": "execute_result",
     "data": {
      "text/plain": "              Provincia   Total  Confirmados  Recuperados  Fallecidos\n0          Buenos Aires  425166       143511       101006        2469\n1                  CABA  180552        67680        47859        1441\n2             Catamarca    2241           60           54           0\n3                 Chaco   25739         3949         3312         165\n4                Chubut    3539          310          252           3\n5            Corrientes    4930          204          163           2\n6               Córdoba   36495         3156         1861          61\n7            Entre Ríos    5932         1056          737          12\n8               Formosa     915           81           78           0\n9                 Jujuy   15526         3027         2222          31\n10             La Pampa    1683          177           88           0\n11             La Rioja    4509          478          289          19\n12              Mendoza    9394         1915          915          51\n13             Misiones    2429           51           39           2\n14              Neuquén    5343         1418         1022          29\n15            Río Negro    9266         2771         1497          82\n16      SIN ESPECIFICAR    3299         1340         1118           4\n17                Salta    2505          465          222           6\n18             San Juan    1106           21           17           0\n19             San Luis     941           33           20           0\n20           Santa Cruz    1862          699          427           4\n21             Santa Fe   24332         1912         1160          20\n22  Santiago del Estero    6025          107           40           0\n23     Tierra del Fuego    3756          886          507           5\n24              Tucumán   14393          357          160           5",
      "text/html": "<div>\n<style scoped>\n    .dataframe tbody tr th:only-of-type {\n        vertical-align: middle;\n    }\n\n    .dataframe tbody tr th {\n        vertical-align: top;\n    }\n\n    .dataframe thead th {\n        text-align: right;\n    }\n</style>\n<table border=\"1\" class=\"dataframe\">\n  <thead>\n    <tr style=\"text-align: right;\">\n      <th></th>\n      <th>Provincia</th>\n      <th>Total</th>\n      <th>Confirmados</th>\n      <th>Recuperados</th>\n      <th>Fallecidos</th>\n    </tr>\n  </thead>\n  <tbody>\n    <tr>\n      <th>0</th>\n      <td>Buenos Aires</td>\n      <td>425166</td>\n      <td>143511</td>\n      <td>101006</td>\n      <td>2469</td>\n    </tr>\n    <tr>\n      <th>1</th>\n      <td>CABA</td>\n      <td>180552</td>\n      <td>67680</td>\n      <td>47859</td>\n      <td>1441</td>\n    </tr>\n    <tr>\n      <th>2</th>\n      <td>Catamarca</td>\n      <td>2241</td>\n      <td>60</td>\n      <td>54</td>\n      <td>0</td>\n    </tr>\n    <tr>\n      <th>3</th>\n      <td>Chaco</td>\n      <td>25739</td>\n      <td>3949</td>\n      <td>3312</td>\n      <td>165</td>\n    </tr>\n    <tr>\n      <th>4</th>\n      <td>Chubut</td>\n      <td>3539</td>\n      <td>310</td>\n      <td>252</td>\n      <td>3</td>\n    </tr>\n    <tr>\n      <th>5</th>\n      <td>Corrientes</td>\n      <td>4930</td>\n      <td>204</td>\n      <td>163</td>\n      <td>2</td>\n    </tr>\n    <tr>\n      <th>6</th>\n      <td>Córdoba</td>\n      <td>36495</td>\n      <td>3156</td>\n      <td>1861</td>\n      <td>61</td>\n    </tr>\n    <tr>\n      <th>7</th>\n      <td>Entre Ríos</td>\n      <td>5932</td>\n      <td>1056</td>\n      <td>737</td>\n      <td>12</td>\n    </tr>\n    <tr>\n      <th>8</th>\n      <td>Formosa</td>\n      <td>915</td>\n      <td>81</td>\n      <td>78</td>\n      <td>0</td>\n    </tr>\n    <tr>\n      <th>9</th>\n      <td>Jujuy</td>\n      <td>15526</td>\n      <td>3027</td>\n      <td>2222</td>\n      <td>31</td>\n    </tr>\n    <tr>\n      <th>10</th>\n      <td>La Pampa</td>\n      <td>1683</td>\n      <td>177</td>\n      <td>88</td>\n      <td>0</td>\n    </tr>\n    <tr>\n      <th>11</th>\n      <td>La Rioja</td>\n      <td>4509</td>\n      <td>478</td>\n      <td>289</td>\n      <td>19</td>\n    </tr>\n    <tr>\n      <th>12</th>\n      <td>Mendoza</td>\n      <td>9394</td>\n      <td>1915</td>\n      <td>915</td>\n      <td>51</td>\n    </tr>\n    <tr>\n      <th>13</th>\n      <td>Misiones</td>\n      <td>2429</td>\n      <td>51</td>\n      <td>39</td>\n      <td>2</td>\n    </tr>\n    <tr>\n      <th>14</th>\n      <td>Neuquén</td>\n      <td>5343</td>\n      <td>1418</td>\n      <td>1022</td>\n      <td>29</td>\n    </tr>\n    <tr>\n      <th>15</th>\n      <td>Río Negro</td>\n      <td>9266</td>\n      <td>2771</td>\n      <td>1497</td>\n      <td>82</td>\n    </tr>\n    <tr>\n      <th>16</th>\n      <td>SIN ESPECIFICAR</td>\n      <td>3299</td>\n      <td>1340</td>\n      <td>1118</td>\n      <td>4</td>\n    </tr>\n    <tr>\n      <th>17</th>\n      <td>Salta</td>\n      <td>2505</td>\n      <td>465</td>\n      <td>222</td>\n      <td>6</td>\n    </tr>\n    <tr>\n      <th>18</th>\n      <td>San Juan</td>\n      <td>1106</td>\n      <td>21</td>\n      <td>17</td>\n      <td>0</td>\n    </tr>\n    <tr>\n      <th>19</th>\n      <td>San Luis</td>\n      <td>941</td>\n      <td>33</td>\n      <td>20</td>\n      <td>0</td>\n    </tr>\n    <tr>\n      <th>20</th>\n      <td>Santa Cruz</td>\n      <td>1862</td>\n      <td>699</td>\n      <td>427</td>\n      <td>4</td>\n    </tr>\n    <tr>\n      <th>21</th>\n      <td>Santa Fe</td>\n      <td>24332</td>\n      <td>1912</td>\n      <td>1160</td>\n      <td>20</td>\n    </tr>\n    <tr>\n      <th>22</th>\n      <td>Santiago del Estero</td>\n      <td>6025</td>\n      <td>107</td>\n      <td>40</td>\n      <td>0</td>\n    </tr>\n    <tr>\n      <th>23</th>\n      <td>Tierra del Fuego</td>\n      <td>3756</td>\n      <td>886</td>\n      <td>507</td>\n      <td>5</td>\n    </tr>\n    <tr>\n      <th>24</th>\n      <td>Tucumán</td>\n      <td>14393</td>\n      <td>357</td>\n      <td>160</td>\n      <td>5</td>\n    </tr>\n  </tbody>\n</table>\n</div>"
     },
     "metadata": {},
     "execution_count": 6
    }
   ],
   "source": [
    "# table provincias\n",
    "# Provincia\tCasos Confirmados Totales\tRecuperados\tFallecidos\n",
    "sql_string = '''SELECT residencia_provincia_nombre  AS Provincia,\n",
    "    count(*) AS Total,\n",
    "    sum(case when clasificacion_resumen=\"Confirmado\" then 1 else 0 end) AS Confirmados,\n",
    "    sum(case when clasificacion LIKE \"%No Activo%\" then 1 else 0 end) AS Recuperados,\n",
    "    sum(case when clasificacion = \"Caso confirmado - Fallecido\" then 1 else 0 end) AS Fallecidos\n",
    "FROM test_0\n",
    "GROUP BY residencia_provincia_nombre;\n",
    "'''\n",
    "gg = pd.read_sql(sql_string, conn)\n",
    "gg"
   ]
  },
  {
   "cell_type": "code",
   "execution_count": 7,
   "metadata": {},
   "outputs": [
    {
     "output_type": "execute_result",
     "data": {
      "text/plain": "                 Residencia  Total  Confirmados  Recuperados  Fallecidos\n0                25 de Mayo    204           37           28           0\n1                9 de Julio    293           21           15           1\n2             Adolfo Alsina     36            3            2           0\n3    Adolfo Gonzales Chaves     36            1            0           0\n4                   Alberti    162           13            9           0\n..                      ...    ...          ...          ...         ...\n131         Tres de Febrero  14131         5235         3799         110\n132           Vicente López   8217         2457         1595          61\n133            Villa Gesell    169            9            8           0\n134               Villarino    131           19           19           0\n135                  Zárate   2229          478          370          10\n\n[136 rows x 5 columns]",
      "text/html": "<div>\n<style scoped>\n    .dataframe tbody tr th:only-of-type {\n        vertical-align: middle;\n    }\n\n    .dataframe tbody tr th {\n        vertical-align: top;\n    }\n\n    .dataframe thead th {\n        text-align: right;\n    }\n</style>\n<table border=\"1\" class=\"dataframe\">\n  <thead>\n    <tr style=\"text-align: right;\">\n      <th></th>\n      <th>Residencia</th>\n      <th>Total</th>\n      <th>Confirmados</th>\n      <th>Recuperados</th>\n      <th>Fallecidos</th>\n    </tr>\n  </thead>\n  <tbody>\n    <tr>\n      <th>0</th>\n      <td>25 de Mayo</td>\n      <td>204</td>\n      <td>37</td>\n      <td>28</td>\n      <td>0</td>\n    </tr>\n    <tr>\n      <th>1</th>\n      <td>9 de Julio</td>\n      <td>293</td>\n      <td>21</td>\n      <td>15</td>\n      <td>1</td>\n    </tr>\n    <tr>\n      <th>2</th>\n      <td>Adolfo Alsina</td>\n      <td>36</td>\n      <td>3</td>\n      <td>2</td>\n      <td>0</td>\n    </tr>\n    <tr>\n      <th>3</th>\n      <td>Adolfo Gonzales Chaves</td>\n      <td>36</td>\n      <td>1</td>\n      <td>0</td>\n      <td>0</td>\n    </tr>\n    <tr>\n      <th>4</th>\n      <td>Alberti</td>\n      <td>162</td>\n      <td>13</td>\n      <td>9</td>\n      <td>0</td>\n    </tr>\n    <tr>\n      <th>...</th>\n      <td>...</td>\n      <td>...</td>\n      <td>...</td>\n      <td>...</td>\n      <td>...</td>\n    </tr>\n    <tr>\n      <th>131</th>\n      <td>Tres de Febrero</td>\n      <td>14131</td>\n      <td>5235</td>\n      <td>3799</td>\n      <td>110</td>\n    </tr>\n    <tr>\n      <th>132</th>\n      <td>Vicente López</td>\n      <td>8217</td>\n      <td>2457</td>\n      <td>1595</td>\n      <td>61</td>\n    </tr>\n    <tr>\n      <th>133</th>\n      <td>Villa Gesell</td>\n      <td>169</td>\n      <td>9</td>\n      <td>8</td>\n      <td>0</td>\n    </tr>\n    <tr>\n      <th>134</th>\n      <td>Villarino</td>\n      <td>131</td>\n      <td>19</td>\n      <td>19</td>\n      <td>0</td>\n    </tr>\n    <tr>\n      <th>135</th>\n      <td>Zárate</td>\n      <td>2229</td>\n      <td>478</td>\n      <td>370</td>\n      <td>10</td>\n    </tr>\n  </tbody>\n</table>\n<p>136 rows × 5 columns</p>\n</div>"
     },
     "metadata": {},
     "execution_count": 7
    }
   ],
   "source": [
    "# table departamentos buenos aires\n",
    "# Provincia\tCasos Confirmados Totales\tRecuperados\tFallecidos\n",
    "sql_string = '''SELECT residencia_departamento_nombre  AS Residencia,\n",
    "    count(*) AS Total,\n",
    "    sum(case when clasificacion_resumen=\"Confirmado\" then 1 else 0 end) AS Confirmados,\n",
    "    sum(case when clasificacion LIKE \"%No Activo%\" then 1 else 0 end) AS Recuperados,\n",
    "    sum(case when clasificacion = \"Caso confirmado - Fallecido\" then 1 else 0 end) AS Fallecidos\n",
    "FROM test_0\n",
    "WHERE (residencia_provincia_nombre=\"Buenos Aires\")\n",
    "GROUP BY residencia_departamento_nombre;\n",
    "'''\n",
    "gg = pd.read_sql(sql_string, conn)\n",
    "gg"
   ]
  },
  {
   "cell_type": "code",
   "execution_count": 8,
   "metadata": {},
   "outputs": [
    {
     "output_type": "execute_result",
     "data": {
      "text/plain": "  fecha_apertura  count(*)\n0     2020-08-07      1400\n1     2020-08-06      4044\n2     2020-08-05      4782\n3     2020-08-04      6464\n4     2020-08-03      5979\n5     2020-08-02      4017\n6     2020-08-01      4029",
      "text/html": "<div>\n<style scoped>\n    .dataframe tbody tr th:only-of-type {\n        vertical-align: middle;\n    }\n\n    .dataframe tbody tr th {\n        vertical-align: top;\n    }\n\n    .dataframe thead th {\n        text-align: right;\n    }\n</style>\n<table border=\"1\" class=\"dataframe\">\n  <thead>\n    <tr style=\"text-align: right;\">\n      <th></th>\n      <th>fecha_apertura</th>\n      <th>count(*)</th>\n    </tr>\n  </thead>\n  <tbody>\n    <tr>\n      <th>0</th>\n      <td>2020-08-07</td>\n      <td>1400</td>\n    </tr>\n    <tr>\n      <th>1</th>\n      <td>2020-08-06</td>\n      <td>4044</td>\n    </tr>\n    <tr>\n      <th>2</th>\n      <td>2020-08-05</td>\n      <td>4782</td>\n    </tr>\n    <tr>\n      <th>3</th>\n      <td>2020-08-04</td>\n      <td>6464</td>\n    </tr>\n    <tr>\n      <th>4</th>\n      <td>2020-08-03</td>\n      <td>5979</td>\n    </tr>\n    <tr>\n      <th>5</th>\n      <td>2020-08-02</td>\n      <td>4017</td>\n    </tr>\n    <tr>\n      <th>6</th>\n      <td>2020-08-01</td>\n      <td>4029</td>\n    </tr>\n  </tbody>\n</table>\n</div>"
     },
     "metadata": {},
     "execution_count": 8
    }
   ],
   "source": [
    "# table departamentos buenos aires\n",
    "# Provincia\tCasos Confirmados Totales\tRecuperados\tFallecidos\n",
    "sql_string = '''\n",
    "SELECT fecha_apertura, count(*) FROM test_0 WHERE (clasificacion_resumen=\"Confirmado\") group by fecha_apertura  ORDER BY \"fecha_apertura\" DESC LIMIT 7;\n",
    "'''\n",
    "gg = pd.read_sql(sql_string, conn)\n",
    "gg"
   ]
  },
  {
   "cell_type": "code",
   "execution_count": null,
   "metadata": {},
   "outputs": [],
   "source": []
  }
 ],
 "metadata": {
  "kernelspec": {
   "display_name": "Python 3",
   "language": "python",
   "name": "python3"
  },
  "language_info": {
   "codemirror_mode": {
    "name": "ipython",
    "version": 3
   },
   "file_extension": ".py",
   "mimetype": "text/x-python",
   "name": "python",
   "nbconvert_exporter": "python",
   "pygments_lexer": "ipython3",
   "version": "3.6.5-final"
  }
 },
 "nbformat": 4,
 "nbformat_minor": 4
}