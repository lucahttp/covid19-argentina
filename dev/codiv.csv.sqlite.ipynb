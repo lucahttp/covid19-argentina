{
 "cells": [
  {
   "cell_type": "markdown",
   "metadata": {},
   "source": [
    "#Work as SQL\n",
    "import pandas as pd\n",
    "import sqlite3"
   ]
  },
  {
   "cell_type": "code",
   "execution_count": 59,
   "metadata": {},
   "outputs": [],
   "source": [
    "import pandas as pd \n",
    "import sqlite3"
   ]
  },
  {
   "cell_type": "code",
   "execution_count": 112,
   "metadata": {},
   "outputs": [],
   "source": [
    "#read the CSV\n",
    "df = pd.read_csv('./data/casoscovid19.csv')\n",
    "#connect to a database\n",
    "conn = sqlite3.connect(\"casoscovid19.db\") #if the db does not exist, this creates a Any_Database_Name.db file in the current directory\n",
    "#store your table in the database:\n",
    "\n",
    "\n",
    "cursor = conn.cursor()\n",
    "#Doping EMPLOYEE table if already exists\n",
    "cursor.execute(\"DROP TABLE IF EXISTS test_0\")\n",
    "#print(\"Table dropped... \")\n",
    "#Commit your changes in the database\n",
    "conn.commit()\n",
    "#Closing the connection\n",
    "#conn.close()\n",
    "# https://www.tutorialspoint.com/python_sqlite/python_sqlite_drop_table.htm\n",
    "\n",
    "#gg = pd.read_sql('DROP TABLE IF EXISTS test_0;', conn)\n",
    "#pd.read_sql_query('DROP TABLE IF EXISTS test_0;', conn)\n",
    "df.to_sql('test_0', conn)"
   ]
  },
  {
   "cell_type": "code",
   "execution_count": 89,
   "metadata": {},
   "outputs": [],
   "source": [
    "#connect to a database\n",
    "conn = sqlite3.connect(\"casoscovid19.db\") \n",
    "#if the db does not exist, this creates a Any_Database_Name.db file in the current directory"
   ]
  },
  {
   "cell_type": "code",
   "execution_count": 113,
   "metadata": {},
   "outputs": [
    {
     "output_type": "execute_result",
     "data": {
      "text/plain": "   COUNT(*)\n0    228173",
      "text/html": "<div>\n<style scoped>\n    .dataframe tbody tr th:only-of-type {\n        vertical-align: middle;\n    }\n\n    .dataframe tbody tr th {\n        vertical-align: top;\n    }\n\n    .dataframe thead th {\n        text-align: right;\n    }\n</style>\n<table border=\"1\" class=\"dataframe\">\n  <thead>\n    <tr style=\"text-align: right;\">\n      <th></th>\n      <th>COUNT(*)</th>\n    </tr>\n  </thead>\n  <tbody>\n    <tr>\n      <th>0</th>\n      <td>228173</td>\n    </tr>\n  </tbody>\n</table>\n</div>"
     },
     "metadata": {},
     "execution_count": 113
    }
   ],
   "source": [
    "#read a SQL Query out of your database and into a pandas dataframe\n",
    "sql_string = 'SELECT * FROM test_0'\n",
    "sql_string = 'SELECT COUNT(*) FROM test_0 WHERE clasificacion LIKE \"%Caso confirmado%\";'\n",
    "gg = pd.read_sql(sql_string, conn)\n",
    "gg"
   ]
  },
  {
   "cell_type": "code",
   "execution_count": 63,
   "metadata": {},
   "outputs": [
    {
     "output_type": "execute_result",
     "data": {
      "text/plain": "   index  id_evento_caso sexo  edad edad_años_meses residencia_pais_nombre  \\\n0      0         1000000    M  53.0            Años              Argentina   \n1      1         1000002    M  21.0            Años              Argentina   \n2      2         1000003    F  40.0            Años              Argentina   \n3      3         1000005    F  58.0            Años              Argentina   \n4      4         1000006    M  28.0            Años              Argentina   \n\n  residencia_provincia_nombre residencia_departamento_nombre  \\\n0                        CABA                SIN ESPECIFICAR   \n1                Buenos Aires                     La Matanza   \n2                     Córdoba                        Capital   \n3                     Mendoza                      Las Heras   \n4                Buenos Aires            Malvinas Argentinas   \n\n  carga_provincia_nombre fecha_inicio_sintomas  ... fecha_fallecimiento  \\\n0           Buenos Aires                  None  ...                None   \n1           Buenos Aires                  None  ...                None   \n2                Córdoba            2020-05-24  ...                None   \n3                Mendoza                  None  ...                None   \n4           Buenos Aires            2020-05-30  ...                None   \n\n   asistencia_respiratoria_mecanica carga_provincia_id origen_financiamiento  \\\n0                                NO                6.0               Privado   \n1                                NO                6.0               Público   \n2                                NO               14.0               Privado   \n3                                NO               50.0               Público   \n4                                NO                6.0               Público   \n\n                                 clasificacion clasificacion_resumen  \\\n0                              Caso Descartado            Descartado   \n1                              Caso Descartado            Descartado   \n2                              Caso Descartado            Descartado   \n3                              Caso Descartado            Descartado   \n4  Caso sospechoso - Con muestra sin resultado            Sospechoso   \n\n  residencia_provincia_id fecha_diagnostico  residencia_departamento_id  \\\n0                     2.0        2020-06-09                         0.0   \n1                     6.0        2020-06-01                       427.0   \n2                    14.0        2020-06-01                        14.0   \n3                    50.0        2020-06-01                        49.0   \n4                     6.0              None                       515.0   \n\n  ultima_actualizacion  \n0           2020-08-05  \n1           2020-08-05  \n2           2020-08-05  \n3           2020-08-05  \n4           2020-08-05  \n\n[5 rows x 26 columns]",
      "text/html": "<div>\n<style scoped>\n    .dataframe tbody tr th:only-of-type {\n        vertical-align: middle;\n    }\n\n    .dataframe tbody tr th {\n        vertical-align: top;\n    }\n\n    .dataframe thead th {\n        text-align: right;\n    }\n</style>\n<table border=\"1\" class=\"dataframe\">\n  <thead>\n    <tr style=\"text-align: right;\">\n      <th></th>\n      <th>index</th>\n      <th>id_evento_caso</th>\n      <th>sexo</th>\n      <th>edad</th>\n      <th>edad_años_meses</th>\n      <th>residencia_pais_nombre</th>\n      <th>residencia_provincia_nombre</th>\n      <th>residencia_departamento_nombre</th>\n      <th>carga_provincia_nombre</th>\n      <th>fecha_inicio_sintomas</th>\n      <th>...</th>\n      <th>fecha_fallecimiento</th>\n      <th>asistencia_respiratoria_mecanica</th>\n      <th>carga_provincia_id</th>\n      <th>origen_financiamiento</th>\n      <th>clasificacion</th>\n      <th>clasificacion_resumen</th>\n      <th>residencia_provincia_id</th>\n      <th>fecha_diagnostico</th>\n      <th>residencia_departamento_id</th>\n      <th>ultima_actualizacion</th>\n    </tr>\n  </thead>\n  <tbody>\n    <tr>\n      <th>0</th>\n      <td>0</td>\n      <td>1000000</td>\n      <td>M</td>\n      <td>53.0</td>\n      <td>Años</td>\n      <td>Argentina</td>\n      <td>CABA</td>\n      <td>SIN ESPECIFICAR</td>\n      <td>Buenos Aires</td>\n      <td>None</td>\n      <td>...</td>\n      <td>None</td>\n      <td>NO</td>\n      <td>6.0</td>\n      <td>Privado</td>\n      <td>Caso Descartado</td>\n      <td>Descartado</td>\n      <td>2.0</td>\n      <td>2020-06-09</td>\n      <td>0.0</td>\n      <td>2020-08-05</td>\n    </tr>\n    <tr>\n      <th>1</th>\n      <td>1</td>\n      <td>1000002</td>\n      <td>M</td>\n      <td>21.0</td>\n      <td>Años</td>\n      <td>Argentina</td>\n      <td>Buenos Aires</td>\n      <td>La Matanza</td>\n      <td>Buenos Aires</td>\n      <td>None</td>\n      <td>...</td>\n      <td>None</td>\n      <td>NO</td>\n      <td>6.0</td>\n      <td>Público</td>\n      <td>Caso Descartado</td>\n      <td>Descartado</td>\n      <td>6.0</td>\n      <td>2020-06-01</td>\n      <td>427.0</td>\n      <td>2020-08-05</td>\n    </tr>\n    <tr>\n      <th>2</th>\n      <td>2</td>\n      <td>1000003</td>\n      <td>F</td>\n      <td>40.0</td>\n      <td>Años</td>\n      <td>Argentina</td>\n      <td>Córdoba</td>\n      <td>Capital</td>\n      <td>Córdoba</td>\n      <td>2020-05-24</td>\n      <td>...</td>\n      <td>None</td>\n      <td>NO</td>\n      <td>14.0</td>\n      <td>Privado</td>\n      <td>Caso Descartado</td>\n      <td>Descartado</td>\n      <td>14.0</td>\n      <td>2020-06-01</td>\n      <td>14.0</td>\n      <td>2020-08-05</td>\n    </tr>\n    <tr>\n      <th>3</th>\n      <td>3</td>\n      <td>1000005</td>\n      <td>F</td>\n      <td>58.0</td>\n      <td>Años</td>\n      <td>Argentina</td>\n      <td>Mendoza</td>\n      <td>Las Heras</td>\n      <td>Mendoza</td>\n      <td>None</td>\n      <td>...</td>\n      <td>None</td>\n      <td>NO</td>\n      <td>50.0</td>\n      <td>Público</td>\n      <td>Caso Descartado</td>\n      <td>Descartado</td>\n      <td>50.0</td>\n      <td>2020-06-01</td>\n      <td>49.0</td>\n      <td>2020-08-05</td>\n    </tr>\n    <tr>\n      <th>4</th>\n      <td>4</td>\n      <td>1000006</td>\n      <td>M</td>\n      <td>28.0</td>\n      <td>Años</td>\n      <td>Argentina</td>\n      <td>Buenos Aires</td>\n      <td>Malvinas Argentinas</td>\n      <td>Buenos Aires</td>\n      <td>2020-05-30</td>\n      <td>...</td>\n      <td>None</td>\n      <td>NO</td>\n      <td>6.0</td>\n      <td>Público</td>\n      <td>Caso sospechoso - Con muestra sin resultado</td>\n      <td>Sospechoso</td>\n      <td>6.0</td>\n      <td>None</td>\n      <td>515.0</td>\n      <td>2020-08-05</td>\n    </tr>\n  </tbody>\n</table>\n<p>5 rows × 26 columns</p>\n</div>"
     },
     "metadata": {},
     "execution_count": 63
    }
   ],
   "source": [
    "#read a SQL Query out of your database and into a pandas dataframe\n",
    "sql_string = 'SELECT * FROM test_0 LIMIT 5;'\n",
    "gg = pd.read_sql(sql_string, conn)\n",
    "gg"
   ]
  },
  {
   "cell_type": "code",
   "execution_count": 64,
   "metadata": {},
   "outputs": [],
   "source": [
    "# ultima_actualizacion"
   ]
  },
  {
   "cell_type": "code",
   "execution_count": 114,
   "metadata": {},
   "outputs": [
    {
     "output_type": "execute_result",
     "data": {
      "text/plain": "    residencia_departamento_nombre\n0                       La Matanza\n1              Malvinas Argentinas\n2               Esteban Echeverría\n3                            Tigre\n4                  Tres de Febrero\n..                             ...\n131                       Tapalqué\n132                     Pellegrini\n133                  General Guido\n134                       Tordillo\n135                        Capital\n\n[136 rows x 1 columns]",
      "text/html": "<div>\n<style scoped>\n    .dataframe tbody tr th:only-of-type {\n        vertical-align: middle;\n    }\n\n    .dataframe tbody tr th {\n        vertical-align: top;\n    }\n\n    .dataframe thead th {\n        text-align: right;\n    }\n</style>\n<table border=\"1\" class=\"dataframe\">\n  <thead>\n    <tr style=\"text-align: right;\">\n      <th></th>\n      <th>residencia_departamento_nombre</th>\n    </tr>\n  </thead>\n  <tbody>\n    <tr>\n      <th>0</th>\n      <td>La Matanza</td>\n    </tr>\n    <tr>\n      <th>1</th>\n      <td>Malvinas Argentinas</td>\n    </tr>\n    <tr>\n      <th>2</th>\n      <td>Esteban Echeverría</td>\n    </tr>\n    <tr>\n      <th>3</th>\n      <td>Tigre</td>\n    </tr>\n    <tr>\n      <th>4</th>\n      <td>Tres de Febrero</td>\n    </tr>\n    <tr>\n      <th>...</th>\n      <td>...</td>\n    </tr>\n    <tr>\n      <th>131</th>\n      <td>Tapalqué</td>\n    </tr>\n    <tr>\n      <th>132</th>\n      <td>Pellegrini</td>\n    </tr>\n    <tr>\n      <th>133</th>\n      <td>General Guido</td>\n    </tr>\n    <tr>\n      <th>134</th>\n      <td>Tordillo</td>\n    </tr>\n    <tr>\n      <th>135</th>\n      <td>Capital</td>\n    </tr>\n  </tbody>\n</table>\n<p>136 rows × 1 columns</p>\n</div>"
     },
     "metadata": {},
     "execution_count": 114
    }
   ],
   "source": [
    "sql_string = 'SELECT DISTINCT residencia_departamento_nombre FROM test_0 WHERE residencia_provincia_nombre=\"Buenos Aires\";'\n",
    "gg = pd.read_sql(sql_string, conn)\n",
    "gg"
   ]
  },
  {
   "cell_type": "code",
   "execution_count": 66,
   "metadata": {},
   "outputs": [
    {
     "output_type": "execute_result",
     "data": {
      "text/plain": "    residencia_departamento_nombre  count(*)\n0                       25 de Mayo        34\n1                       9 de Julio        18\n2                    Adolfo Alsina         2\n3           Adolfo Gonzales Chaves         1\n4                          Alberti        12\n..                             ...       ...\n125                Tres de Febrero      4812\n126                  Vicente López      2222\n127                   Villa Gesell         8\n128                      Villarino        11\n129                         Zárate       442\n\n[130 rows x 2 columns]",
      "text/html": "<div>\n<style scoped>\n    .dataframe tbody tr th:only-of-type {\n        vertical-align: middle;\n    }\n\n    .dataframe tbody tr th {\n        vertical-align: top;\n    }\n\n    .dataframe thead th {\n        text-align: right;\n    }\n</style>\n<table border=\"1\" class=\"dataframe\">\n  <thead>\n    <tr style=\"text-align: right;\">\n      <th></th>\n      <th>residencia_departamento_nombre</th>\n      <th>count(*)</th>\n    </tr>\n  </thead>\n  <tbody>\n    <tr>\n      <th>0</th>\n      <td>25 de Mayo</td>\n      <td>34</td>\n    </tr>\n    <tr>\n      <th>1</th>\n      <td>9 de Julio</td>\n      <td>18</td>\n    </tr>\n    <tr>\n      <th>2</th>\n      <td>Adolfo Alsina</td>\n      <td>2</td>\n    </tr>\n    <tr>\n      <th>3</th>\n      <td>Adolfo Gonzales Chaves</td>\n      <td>1</td>\n    </tr>\n    <tr>\n      <th>4</th>\n      <td>Alberti</td>\n      <td>12</td>\n    </tr>\n    <tr>\n      <th>...</th>\n      <td>...</td>\n      <td>...</td>\n    </tr>\n    <tr>\n      <th>125</th>\n      <td>Tres de Febrero</td>\n      <td>4812</td>\n    </tr>\n    <tr>\n      <th>126</th>\n      <td>Vicente López</td>\n      <td>2222</td>\n    </tr>\n    <tr>\n      <th>127</th>\n      <td>Villa Gesell</td>\n      <td>8</td>\n    </tr>\n    <tr>\n      <th>128</th>\n      <td>Villarino</td>\n      <td>11</td>\n    </tr>\n    <tr>\n      <th>129</th>\n      <td>Zárate</td>\n      <td>442</td>\n    </tr>\n  </tbody>\n</table>\n<p>130 rows × 2 columns</p>\n</div>"
     },
     "metadata": {},
     "execution_count": 66
    }
   ],
   "source": [
    "sql_string = 'SELECT DISTINCT residencia_departamento_nombre FROM test_0 WHERE residencia_provincia_nombre=\"Buenos Aires\";'\n",
    "sql_string = 'select residencia_departamento_nombre, count(*) from test_0 WHERE residencia_provincia_nombre=\"Buenos Aires\" AND clasificacion_resumen=\"Confirmado\" group by residencia_departamento_nombre;'\n",
    "gg = pd.read_sql(sql_string, conn)\n",
    "gg\n",
    "\n",
    "\n"
   ]
  },
  {
   "cell_type": "code",
   "execution_count": 67,
   "metadata": {},
   "outputs": [
    {
     "output_type": "execute_result",
     "data": {
      "text/plain": "    residencia_departamento_nombre\n0                       La Matanza\n1              Malvinas Argentinas\n2               Esteban Echeverría\n3                            Tigre\n4                  Tres de Febrero\n..                             ...\n131                       Tapalqué\n132                     Pellegrini\n133                  General Guido\n134                       Tordillo\n135                        Capital\n\n[136 rows x 1 columns]",
      "text/html": "<div>\n<style scoped>\n    .dataframe tbody tr th:only-of-type {\n        vertical-align: middle;\n    }\n\n    .dataframe tbody tr th {\n        vertical-align: top;\n    }\n\n    .dataframe thead th {\n        text-align: right;\n    }\n</style>\n<table border=\"1\" class=\"dataframe\">\n  <thead>\n    <tr style=\"text-align: right;\">\n      <th></th>\n      <th>residencia_departamento_nombre</th>\n    </tr>\n  </thead>\n  <tbody>\n    <tr>\n      <th>0</th>\n      <td>La Matanza</td>\n    </tr>\n    <tr>\n      <th>1</th>\n      <td>Malvinas Argentinas</td>\n    </tr>\n    <tr>\n      <th>2</th>\n      <td>Esteban Echeverría</td>\n    </tr>\n    <tr>\n      <th>3</th>\n      <td>Tigre</td>\n    </tr>\n    <tr>\n      <th>4</th>\n      <td>Tres de Febrero</td>\n    </tr>\n    <tr>\n      <th>...</th>\n      <td>...</td>\n    </tr>\n    <tr>\n      <th>131</th>\n      <td>Tapalqué</td>\n    </tr>\n    <tr>\n      <th>132</th>\n      <td>Pellegrini</td>\n    </tr>\n    <tr>\n      <th>133</th>\n      <td>General Guido</td>\n    </tr>\n    <tr>\n      <th>134</th>\n      <td>Tordillo</td>\n    </tr>\n    <tr>\n      <th>135</th>\n      <td>Capital</td>\n    </tr>\n  </tbody>\n</table>\n<p>136 rows × 1 columns</p>\n</div>"
     },
     "metadata": {},
     "execution_count": 67
    }
   ],
   "source": [
    "sql_string = 'SELECT DISTINCT residencia_departamento_nombre FROM test_0 WHERE residencia_provincia_nombre=\"Buenos Aires\";'\n",
    "gg = pd.read_sql(sql_string, conn)\n",
    "gg"
   ]
  },
  {
   "cell_type": "code",
   "execution_count": 68,
   "metadata": {},
   "outputs": [
    {
     "output_type": "execute_result",
     "data": {
      "text/plain": "    residencia_departamento_nombre  count(*)\n0                       25 de Mayo       166\n1                       9 de Julio       233\n2                    Adolfo Alsina        30\n3           Adolfo Gonzales Chaves        32\n4                          Alberti       134\n..                             ...       ...\n131                Tres de Febrero     12561\n132                  Vicente López      7125\n133                   Villa Gesell       115\n134                      Villarino        94\n135                         Zárate      1995\n\n[136 rows x 2 columns]",
      "text/html": "<div>\n<style scoped>\n    .dataframe tbody tr th:only-of-type {\n        vertical-align: middle;\n    }\n\n    .dataframe tbody tr th {\n        vertical-align: top;\n    }\n\n    .dataframe thead th {\n        text-align: right;\n    }\n</style>\n<table border=\"1\" class=\"dataframe\">\n  <thead>\n    <tr style=\"text-align: right;\">\n      <th></th>\n      <th>residencia_departamento_nombre</th>\n      <th>count(*)</th>\n    </tr>\n  </thead>\n  <tbody>\n    <tr>\n      <th>0</th>\n      <td>25 de Mayo</td>\n      <td>166</td>\n    </tr>\n    <tr>\n      <th>1</th>\n      <td>9 de Julio</td>\n      <td>233</td>\n    </tr>\n    <tr>\n      <th>2</th>\n      <td>Adolfo Alsina</td>\n      <td>30</td>\n    </tr>\n    <tr>\n      <th>3</th>\n      <td>Adolfo Gonzales Chaves</td>\n      <td>32</td>\n    </tr>\n    <tr>\n      <th>4</th>\n      <td>Alberti</td>\n      <td>134</td>\n    </tr>\n    <tr>\n      <th>...</th>\n      <td>...</td>\n      <td>...</td>\n    </tr>\n    <tr>\n      <th>131</th>\n      <td>Tres de Febrero</td>\n      <td>12561</td>\n    </tr>\n    <tr>\n      <th>132</th>\n      <td>Vicente López</td>\n      <td>7125</td>\n    </tr>\n    <tr>\n      <th>133</th>\n      <td>Villa Gesell</td>\n      <td>115</td>\n    </tr>\n    <tr>\n      <th>134</th>\n      <td>Villarino</td>\n      <td>94</td>\n    </tr>\n    <tr>\n      <th>135</th>\n      <td>Zárate</td>\n      <td>1995</td>\n    </tr>\n  </tbody>\n</table>\n<p>136 rows × 2 columns</p>\n</div>"
     },
     "metadata": {},
     "execution_count": 68
    }
   ],
   "source": [
    "sql_string = 'select residencia_departamento_nombre, count(*) from test_0 WHERE residencia_provincia_nombre=\"Buenos Aires\" group by residencia_departamento_nombre;'\n",
    "gg = pd.read_sql(sql_string, conn)\n",
    "gg\n",
    "\n"
   ]
  },
  {
   "cell_type": "code",
   "execution_count": 69,
   "metadata": {},
   "outputs": [
    {
     "output_type": "execute_result",
     "data": {
      "text/plain": "    residencia_departamento_nombre  count(*)\n0                       25 de Mayo        34\n1                       9 de Julio        18\n2                    Adolfo Alsina         2\n3           Adolfo Gonzales Chaves         1\n4                          Alberti        12\n..                             ...       ...\n125                Tres de Febrero      4812\n126                  Vicente López      2222\n127                   Villa Gesell         8\n128                      Villarino        11\n129                         Zárate       442\n\n[130 rows x 2 columns]",
      "text/html": "<div>\n<style scoped>\n    .dataframe tbody tr th:only-of-type {\n        vertical-align: middle;\n    }\n\n    .dataframe tbody tr th {\n        vertical-align: top;\n    }\n\n    .dataframe thead th {\n        text-align: right;\n    }\n</style>\n<table border=\"1\" class=\"dataframe\">\n  <thead>\n    <tr style=\"text-align: right;\">\n      <th></th>\n      <th>residencia_departamento_nombre</th>\n      <th>count(*)</th>\n    </tr>\n  </thead>\n  <tbody>\n    <tr>\n      <th>0</th>\n      <td>25 de Mayo</td>\n      <td>34</td>\n    </tr>\n    <tr>\n      <th>1</th>\n      <td>9 de Julio</td>\n      <td>18</td>\n    </tr>\n    <tr>\n      <th>2</th>\n      <td>Adolfo Alsina</td>\n      <td>2</td>\n    </tr>\n    <tr>\n      <th>3</th>\n      <td>Adolfo Gonzales Chaves</td>\n      <td>1</td>\n    </tr>\n    <tr>\n      <th>4</th>\n      <td>Alberti</td>\n      <td>12</td>\n    </tr>\n    <tr>\n      <th>...</th>\n      <td>...</td>\n      <td>...</td>\n    </tr>\n    <tr>\n      <th>125</th>\n      <td>Tres de Febrero</td>\n      <td>4812</td>\n    </tr>\n    <tr>\n      <th>126</th>\n      <td>Vicente López</td>\n      <td>2222</td>\n    </tr>\n    <tr>\n      <th>127</th>\n      <td>Villa Gesell</td>\n      <td>8</td>\n    </tr>\n    <tr>\n      <th>128</th>\n      <td>Villarino</td>\n      <td>11</td>\n    </tr>\n    <tr>\n      <th>129</th>\n      <td>Zárate</td>\n      <td>442</td>\n    </tr>\n  </tbody>\n</table>\n<p>130 rows × 2 columns</p>\n</div>"
     },
     "metadata": {},
     "execution_count": 69
    }
   ],
   "source": [
    "sql_string = 'SELECT residencia_departamento_nombre, count(*) FROM test_0 WHERE (residencia_provincia_nombre=\"Buenos Aires\"  AND clasificacion_resumen=\"Confirmado\") group by residencia_departamento_nombre;'\n",
    "gg = pd.read_sql(sql_string, conn)\n",
    "gg"
   ]
  },
  {
   "cell_type": "code",
   "execution_count": 70,
   "metadata": {},
   "outputs": [
    {
     "output_type": "execute_result",
     "data": {
      "text/plain": "   residencia_provincia_nombre  count(*)\n0                 Buenos Aires    128433\n1                         CABA     58205\n2                    Catamarca        60\n3                        Chaco      3381\n4                       Chubut       295\n5                   Corrientes       157\n6                      Córdoba      2733\n7                   Entre Ríos       935\n8                      Formosa        71\n9                        Jujuy      2881\n10                    La Pampa       165\n11                    La Rioja       400\n12                     Mendoza      1655\n13                    Misiones        48\n14                     Neuquén      1298\n15                   Río Negro      2311\n16             SIN ESPECIFICAR      1249\n17                       Salta       361\n18                    San Juan        21\n19                    San Luis        33\n20                  Santa Cruz       613\n21                    Santa Fe      1616\n22         Santiago del Estero        62\n23            Tierra del Fuego       733\n24                     Tucumán       315",
      "text/html": "<div>\n<style scoped>\n    .dataframe tbody tr th:only-of-type {\n        vertical-align: middle;\n    }\n\n    .dataframe tbody tr th {\n        vertical-align: top;\n    }\n\n    .dataframe thead th {\n        text-align: right;\n    }\n</style>\n<table border=\"1\" class=\"dataframe\">\n  <thead>\n    <tr style=\"text-align: right;\">\n      <th></th>\n      <th>residencia_provincia_nombre</th>\n      <th>count(*)</th>\n    </tr>\n  </thead>\n  <tbody>\n    <tr>\n      <th>0</th>\n      <td>Buenos Aires</td>\n      <td>128433</td>\n    </tr>\n    <tr>\n      <th>1</th>\n      <td>CABA</td>\n      <td>58205</td>\n    </tr>\n    <tr>\n      <th>2</th>\n      <td>Catamarca</td>\n      <td>60</td>\n    </tr>\n    <tr>\n      <th>3</th>\n      <td>Chaco</td>\n      <td>3381</td>\n    </tr>\n    <tr>\n      <th>4</th>\n      <td>Chubut</td>\n      <td>295</td>\n    </tr>\n    <tr>\n      <th>5</th>\n      <td>Corrientes</td>\n      <td>157</td>\n    </tr>\n    <tr>\n      <th>6</th>\n      <td>Córdoba</td>\n      <td>2733</td>\n    </tr>\n    <tr>\n      <th>7</th>\n      <td>Entre Ríos</td>\n      <td>935</td>\n    </tr>\n    <tr>\n      <th>8</th>\n      <td>Formosa</td>\n      <td>71</td>\n    </tr>\n    <tr>\n      <th>9</th>\n      <td>Jujuy</td>\n      <td>2881</td>\n    </tr>\n    <tr>\n      <th>10</th>\n      <td>La Pampa</td>\n      <td>165</td>\n    </tr>\n    <tr>\n      <th>11</th>\n      <td>La Rioja</td>\n      <td>400</td>\n    </tr>\n    <tr>\n      <th>12</th>\n      <td>Mendoza</td>\n      <td>1655</td>\n    </tr>\n    <tr>\n      <th>13</th>\n      <td>Misiones</td>\n      <td>48</td>\n    </tr>\n    <tr>\n      <th>14</th>\n      <td>Neuquén</td>\n      <td>1298</td>\n    </tr>\n    <tr>\n      <th>15</th>\n      <td>Río Negro</td>\n      <td>2311</td>\n    </tr>\n    <tr>\n      <th>16</th>\n      <td>SIN ESPECIFICAR</td>\n      <td>1249</td>\n    </tr>\n    <tr>\n      <th>17</th>\n      <td>Salta</td>\n      <td>361</td>\n    </tr>\n    <tr>\n      <th>18</th>\n      <td>San Juan</td>\n      <td>21</td>\n    </tr>\n    <tr>\n      <th>19</th>\n      <td>San Luis</td>\n      <td>33</td>\n    </tr>\n    <tr>\n      <th>20</th>\n      <td>Santa Cruz</td>\n      <td>613</td>\n    </tr>\n    <tr>\n      <th>21</th>\n      <td>Santa Fe</td>\n      <td>1616</td>\n    </tr>\n    <tr>\n      <th>22</th>\n      <td>Santiago del Estero</td>\n      <td>62</td>\n    </tr>\n    <tr>\n      <th>23</th>\n      <td>Tierra del Fuego</td>\n      <td>733</td>\n    </tr>\n    <tr>\n      <th>24</th>\n      <td>Tucumán</td>\n      <td>315</td>\n    </tr>\n  </tbody>\n</table>\n</div>"
     },
     "metadata": {},
     "execution_count": 70
    }
   ],
   "source": [
    "# casos por provincia\n",
    "sql_string = 'SELECT residencia_provincia_nombre, count(*) FROM test_0 WHERE (clasificacion_resumen=\"Confirmado\") group by residencia_provincia_nombre;'\n",
    "#sql_string = 'SELECT carga_provincia_nombre, count(*) FROM test_0 WHERE (clasificacion_resumen=\"Confirmado\") group by carga_provincia_nombre;'\n",
    "gg = pd.read_sql(sql_string, conn)\n",
    "gg"
   ]
  },
  {
   "cell_type": "code",
   "execution_count": 103,
   "metadata": {},
   "outputs": [
    {
     "output_type": "execute_result",
     "data": {
      "text/plain": "   count(*)\n0    208031",
      "text/html": "<div>\n<style scoped>\n    .dataframe tbody tr th:only-of-type {\n        vertical-align: middle;\n    }\n\n    .dataframe tbody tr th {\n        vertical-align: top;\n    }\n\n    .dataframe thead th {\n        text-align: right;\n    }\n</style>\n<table border=\"1\" class=\"dataframe\">\n  <thead>\n    <tr style=\"text-align: right;\">\n      <th></th>\n      <th>count(*)</th>\n    </tr>\n  </thead>\n  <tbody>\n    <tr>\n      <th>0</th>\n      <td>208031</td>\n    </tr>\n  </tbody>\n</table>\n</div>"
     },
     "metadata": {},
     "execution_count": 103
    }
   ],
   "source": [
    "sql_string = 'SELECT count(*) FROM test_0 WHERE (clasificacion_resumen=\"Confirmado\");'\n",
    "gg = pd.read_sql(sql_string, conn)\n",
    "gg"
   ]
  },
  {
   "cell_type": "code",
   "execution_count": 72,
   "metadata": {},
   "outputs": [
    {
     "output_type": "execute_result",
     "data": {
      "text/plain": "    residencia_departamento_nombre  count(*)\n0                       25 de Mayo        34\n1                       9 de Julio        18\n2                    Adolfo Alsina         2\n3           Adolfo Gonzales Chaves         1\n4                          Alberti        12\n..                             ...       ...\n125                Tres de Febrero      4812\n126                  Vicente López      2222\n127                   Villa Gesell         8\n128                      Villarino        11\n129                         Zárate       442\n\n[130 rows x 2 columns]",
      "text/html": "<div>\n<style scoped>\n    .dataframe tbody tr th:only-of-type {\n        vertical-align: middle;\n    }\n\n    .dataframe tbody tr th {\n        vertical-align: top;\n    }\n\n    .dataframe thead th {\n        text-align: right;\n    }\n</style>\n<table border=\"1\" class=\"dataframe\">\n  <thead>\n    <tr style=\"text-align: right;\">\n      <th></th>\n      <th>residencia_departamento_nombre</th>\n      <th>count(*)</th>\n    </tr>\n  </thead>\n  <tbody>\n    <tr>\n      <th>0</th>\n      <td>25 de Mayo</td>\n      <td>34</td>\n    </tr>\n    <tr>\n      <th>1</th>\n      <td>9 de Julio</td>\n      <td>18</td>\n    </tr>\n    <tr>\n      <th>2</th>\n      <td>Adolfo Alsina</td>\n      <td>2</td>\n    </tr>\n    <tr>\n      <th>3</th>\n      <td>Adolfo Gonzales Chaves</td>\n      <td>1</td>\n    </tr>\n    <tr>\n      <th>4</th>\n      <td>Alberti</td>\n      <td>12</td>\n    </tr>\n    <tr>\n      <th>...</th>\n      <td>...</td>\n      <td>...</td>\n    </tr>\n    <tr>\n      <th>125</th>\n      <td>Tres de Febrero</td>\n      <td>4812</td>\n    </tr>\n    <tr>\n      <th>126</th>\n      <td>Vicente López</td>\n      <td>2222</td>\n    </tr>\n    <tr>\n      <th>127</th>\n      <td>Villa Gesell</td>\n      <td>8</td>\n    </tr>\n    <tr>\n      <th>128</th>\n      <td>Villarino</td>\n      <td>11</td>\n    </tr>\n    <tr>\n      <th>129</th>\n      <td>Zárate</td>\n      <td>442</td>\n    </tr>\n  </tbody>\n</table>\n<p>130 rows × 2 columns</p>\n</div>"
     },
     "metadata": {},
     "execution_count": 72
    }
   ],
   "source": [
    "sql_string = 'SELECT DISTINCT residencia_departamento_nombre FROM test_0 WHERE residencia_provincia_nombre=\"Buenos Aires\";'\n",
    "sql_string = 'select residencia_departamento_nombre, count(*) from test_0 WHERE (clasificacion_resumen=\"Confirmado\" AND residencia_provincia_nombre=\"Buenos Aires\") group by residencia_departamento_nombre;'\n",
    "gg = pd.read_sql(sql_string, conn)\n",
    "gg"
   ]
  },
  {
   "cell_type": "code",
   "execution_count": 73,
   "metadata": {},
   "outputs": [
    {
     "output_type": "execute_result",
     "data": {
      "text/plain": "   residencia_departamento_nombre  count(*)\n0                      9 de Julio         1\n1                 Almirante Brown        70\n2                      Avellaneda        89\n3                        Ayacucho         1\n4                            Azul         1\n..                            ...       ...\n65                    San Vicente         8\n66                          Tigre        45\n67                Tres de Febrero        89\n68                  Vicente López        46\n69                         Zárate         6\n\n[70 rows x 2 columns]",
      "text/html": "<div>\n<style scoped>\n    .dataframe tbody tr th:only-of-type {\n        vertical-align: middle;\n    }\n\n    .dataframe tbody tr th {\n        vertical-align: top;\n    }\n\n    .dataframe thead th {\n        text-align: right;\n    }\n</style>\n<table border=\"1\" class=\"dataframe\">\n  <thead>\n    <tr style=\"text-align: right;\">\n      <th></th>\n      <th>residencia_departamento_nombre</th>\n      <th>count(*)</th>\n    </tr>\n  </thead>\n  <tbody>\n    <tr>\n      <th>0</th>\n      <td>9 de Julio</td>\n      <td>1</td>\n    </tr>\n    <tr>\n      <th>1</th>\n      <td>Almirante Brown</td>\n      <td>70</td>\n    </tr>\n    <tr>\n      <th>2</th>\n      <td>Avellaneda</td>\n      <td>89</td>\n    </tr>\n    <tr>\n      <th>3</th>\n      <td>Ayacucho</td>\n      <td>1</td>\n    </tr>\n    <tr>\n      <th>4</th>\n      <td>Azul</td>\n      <td>1</td>\n    </tr>\n    <tr>\n      <th>...</th>\n      <td>...</td>\n      <td>...</td>\n    </tr>\n    <tr>\n      <th>65</th>\n      <td>San Vicente</td>\n      <td>8</td>\n    </tr>\n    <tr>\n      <th>66</th>\n      <td>Tigre</td>\n      <td>45</td>\n    </tr>\n    <tr>\n      <th>67</th>\n      <td>Tres de Febrero</td>\n      <td>89</td>\n    </tr>\n    <tr>\n      <th>68</th>\n      <td>Vicente López</td>\n      <td>46</td>\n    </tr>\n    <tr>\n      <th>69</th>\n      <td>Zárate</td>\n      <td>6</td>\n    </tr>\n  </tbody>\n</table>\n<p>70 rows × 2 columns</p>\n</div>"
     },
     "metadata": {},
     "execution_count": 73
    }
   ],
   "source": [
    "# muertes por departamento\n",
    "sql_string = 'select residencia_departamento_nombre, count(*) from test_0 WHERE (clasificacion=\"Caso confirmado - Fallecido\" AND residencia_provincia_nombre=\"Buenos Aires\") group by residencia_departamento_nombre;'\n",
    "gg = pd.read_sql(sql_string, conn)\n",
    "gg"
   ]
  },
  {
   "cell_type": "code",
   "execution_count": 90,
   "metadata": {},
   "outputs": [
    {
     "output_type": "execute_result",
     "data": {
      "text/plain": "   residencia_provincia_nombre  count(*)\n0                 Buenos Aires      2054\n1                         CABA      1190\n2                        Chaco       114\n3                       Chubut         2\n4                   Corrientes         2\n5                      Córdoba        49\n6                   Entre Ríos        11\n7                        Jujuy        30\n8                     La Rioja        17\n9                      Mendoza        46\n10                    Misiones         2\n11                     Neuquén        26\n12                   Río Negro        73\n13             SIN ESPECIFICAR         3\n14                       Salta         2\n15                  Santa Cruz         3\n16                    Santa Fe        17\n17            Tierra del Fuego         1\n18                     Tucumán         4",
      "text/html": "<div>\n<style scoped>\n    .dataframe tbody tr th:only-of-type {\n        vertical-align: middle;\n    }\n\n    .dataframe tbody tr th {\n        vertical-align: top;\n    }\n\n    .dataframe thead th {\n        text-align: right;\n    }\n</style>\n<table border=\"1\" class=\"dataframe\">\n  <thead>\n    <tr style=\"text-align: right;\">\n      <th></th>\n      <th>residencia_provincia_nombre</th>\n      <th>count(*)</th>\n    </tr>\n  </thead>\n  <tbody>\n    <tr>\n      <th>0</th>\n      <td>Buenos Aires</td>\n      <td>2054</td>\n    </tr>\n    <tr>\n      <th>1</th>\n      <td>CABA</td>\n      <td>1190</td>\n    </tr>\n    <tr>\n      <th>2</th>\n      <td>Chaco</td>\n      <td>114</td>\n    </tr>\n    <tr>\n      <th>3</th>\n      <td>Chubut</td>\n      <td>2</td>\n    </tr>\n    <tr>\n      <th>4</th>\n      <td>Corrientes</td>\n      <td>2</td>\n    </tr>\n    <tr>\n      <th>5</th>\n      <td>Córdoba</td>\n      <td>49</td>\n    </tr>\n    <tr>\n      <th>6</th>\n      <td>Entre Ríos</td>\n      <td>11</td>\n    </tr>\n    <tr>\n      <th>7</th>\n      <td>Jujuy</td>\n      <td>30</td>\n    </tr>\n    <tr>\n      <th>8</th>\n      <td>La Rioja</td>\n      <td>17</td>\n    </tr>\n    <tr>\n      <th>9</th>\n      <td>Mendoza</td>\n      <td>46</td>\n    </tr>\n    <tr>\n      <th>10</th>\n      <td>Misiones</td>\n      <td>2</td>\n    </tr>\n    <tr>\n      <th>11</th>\n      <td>Neuquén</td>\n      <td>26</td>\n    </tr>\n    <tr>\n      <th>12</th>\n      <td>Río Negro</td>\n      <td>73</td>\n    </tr>\n    <tr>\n      <th>13</th>\n      <td>SIN ESPECIFICAR</td>\n      <td>3</td>\n    </tr>\n    <tr>\n      <th>14</th>\n      <td>Salta</td>\n      <td>2</td>\n    </tr>\n    <tr>\n      <th>15</th>\n      <td>Santa Cruz</td>\n      <td>3</td>\n    </tr>\n    <tr>\n      <th>16</th>\n      <td>Santa Fe</td>\n      <td>17</td>\n    </tr>\n    <tr>\n      <th>17</th>\n      <td>Tierra del Fuego</td>\n      <td>1</td>\n    </tr>\n    <tr>\n      <th>18</th>\n      <td>Tucumán</td>\n      <td>4</td>\n    </tr>\n  </tbody>\n</table>\n</div>"
     },
     "metadata": {},
     "execution_count": 90
    }
   ],
   "source": [
    "# muertes por provincia\n",
    "sql_string = 'select residencia_provincia_nombre, count(*) from test_0 WHERE (clasificacion=\"Caso confirmado - Fallecido\") group by residencia_provincia_nombre;'\n",
    "gg = pd.read_sql(sql_string, conn)\n",
    "gg\n"
   ]
  },
  {
   "cell_type": "code",
   "execution_count": 93,
   "metadata": {
    "tags": []
   },
   "outputs": [
    {
     "output_type": "stream",
     "name": "stdout",
     "text": "228173\n"
    }
   ],
   "source": [
    "# https://www.geeksforgeeks.org/python-filtering-data-with-pandas-query-method/\n",
    "# importing pandas package \n",
    "import pandas as pd \n",
    "  \n",
    "# making data frame from csv file  \n",
    "data = pd.read_csv(\"./data/casoscovid19.csv\") \n",
    "  \n",
    "# replacing blank spaces with '_'  \n",
    "data.columns =[column.replace(\" \", \"_\") for column in data.columns] \n",
    "  \n",
    "# filtering with query method \n",
    "#print(len(data.query('clasificacion_resumen ==\"Confirmado\"', inplace = True)))\n",
    "print(len(data.query('clasificacion_resumen ==\"Confirmado\"')))\n",
    "# display \n",
    "#data "
   ]
  },
  {
   "cell_type": "code",
   "execution_count": 92,
   "metadata": {
    "tags": []
   },
   "outputs": [
    {
     "output_type": "stream",
     "name": "stdout",
     "text": "Note: you may need to restart the kernel to use updated packages.\n'C:\\Program' is not recognized as an internal or external command,\noperable program or batch file.\n"
    }
   ],
   "source": [
    "pip install -U pandasql"
   ]
  },
  {
   "cell_type": "code",
   "execution_count": 76,
   "metadata": {},
   "outputs": [],
   "source": [
    "# https://stackoverflow.com/questions/30530663/how-to-select-distinct-across-multiple-data-frame-columns-in-pandas\n",
    "# https://riptutorial.com/pandas/example/26077/select-distinct-rows-across-dataframe\n",
    "# data = pd.read_csv(\"./data/casoscovid19.csv\") \n",
    "\n",
    "# from pandasql import sqldf\n",
    "# q=\"\"\"SELECT DISTINCT col1, col2 FROM df;\"\"\"\n",
    "# pysqldf = lambda q: sqldf(q, globals())\n",
    "# data = pysqldf(q)"
   ]
  },
  {
   "cell_type": "code",
   "execution_count": 120,
   "metadata": {},
   "outputs": [
    {
     "output_type": "execute_result",
     "data": {
      "text/plain": "    Total  Confirmados  Recuperados  Fallecidos\n0  773272       228173       103284        4252",
      "text/html": "<div>\n<style scoped>\n    .dataframe tbody tr th:only-of-type {\n        vertical-align: middle;\n    }\n\n    .dataframe tbody tr th {\n        vertical-align: top;\n    }\n\n    .dataframe thead th {\n        text-align: right;\n    }\n</style>\n<table border=\"1\" class=\"dataframe\">\n  <thead>\n    <tr style=\"text-align: right;\">\n      <th></th>\n      <th>Total</th>\n      <th>Confirmados</th>\n      <th>Recuperados</th>\n      <th>Fallecidos</th>\n    </tr>\n  </thead>\n  <tbody>\n    <tr>\n      <th>0</th>\n      <td>773272</td>\n      <td>228173</td>\n      <td>103284</td>\n      <td>4252</td>\n    </tr>\n  </tbody>\n</table>\n</div>"
     },
     "metadata": {},
     "execution_count": 120
    }
   ],
   "source": [
    "# table argentina\n",
    "# Provincia\tCasos Confirmados Totales\tRecuperados\tFallecidos\n",
    "sql_string = '''SELECT count(*) AS Total,\n",
    "    sum(case when clasificacion_resumen=\"Confirmado\" then 1 else 0 end) AS Confirmados,\n",
    "    sum(case when clasificacion LIKE \"%No Activo%\" then 1 else 0 end) AS Recuperados,\n",
    "    sum(case when clasificacion = \"Caso confirmado - Fallecido\" then 1 else 0 end) AS Fallecidos\n",
    "FROM test_0;\n",
    "'''\n",
    "gg = pd.read_sql(sql_string, conn)\n",
    "gg"
   ]
  },
  {
   "cell_type": "code",
   "execution_count": 118,
   "metadata": {},
   "outputs": [
    {
     "output_type": "execute_result",
     "data": {
      "text/plain": "              Provincia   Total  Confirmados  Recuperados  Fallecidos\n0          Buenos Aires  413892       138322        68677        2370\n1                  CABA  177414        66454        24220        1408\n2             Catamarca    2204           60           50           0\n3                 Chaco   25304         3872         2866         159\n4                Chubut    3471          308          174           3\n5            Corrientes    4865          200          120           2\n6               Córdoba   35982         2994          649          52\n7            Entre Ríos    5811          999          693          11\n8               Formosa     904           81           77           0\n9                 Jujuy   15122         2957          317          31\n10             La Pampa    1611          170           72           0\n11             La Rioja    4371          449          206          18\n12              Mendoza    9041         1791          532          49\n13             Misiones    2391           52           39           2\n14              Neuquén    5250         1376          968          28\n15            Río Negro    8939         2666         1135          81\n16      SIN ESPECIFICAR    3247         1317          520           4\n17                Salta    2399          411          169           2\n18             San Juan    1106           22           17           0\n19             San Luis     934           32           14           0\n20           Santa Cruz    1715          635          310           4\n21             Santa Fe   23761         1778          846          18\n22  Santiago del Estero    5808           78           36           0\n23     Tierra del Fuego    3612          801          425           5\n24              Tucumán   14118          348          152           5",
      "text/html": "<div>\n<style scoped>\n    .dataframe tbody tr th:only-of-type {\n        vertical-align: middle;\n    }\n\n    .dataframe tbody tr th {\n        vertical-align: top;\n    }\n\n    .dataframe thead th {\n        text-align: right;\n    }\n</style>\n<table border=\"1\" class=\"dataframe\">\n  <thead>\n    <tr style=\"text-align: right;\">\n      <th></th>\n      <th>Provincia</th>\n      <th>Total</th>\n      <th>Confirmados</th>\n      <th>Recuperados</th>\n      <th>Fallecidos</th>\n    </tr>\n  </thead>\n  <tbody>\n    <tr>\n      <th>0</th>\n      <td>Buenos Aires</td>\n      <td>413892</td>\n      <td>138322</td>\n      <td>68677</td>\n      <td>2370</td>\n    </tr>\n    <tr>\n      <th>1</th>\n      <td>CABA</td>\n      <td>177414</td>\n      <td>66454</td>\n      <td>24220</td>\n      <td>1408</td>\n    </tr>\n    <tr>\n      <th>2</th>\n      <td>Catamarca</td>\n      <td>2204</td>\n      <td>60</td>\n      <td>50</td>\n      <td>0</td>\n    </tr>\n    <tr>\n      <th>3</th>\n      <td>Chaco</td>\n      <td>25304</td>\n      <td>3872</td>\n      <td>2866</td>\n      <td>159</td>\n    </tr>\n    <tr>\n      <th>4</th>\n      <td>Chubut</td>\n      <td>3471</td>\n      <td>308</td>\n      <td>174</td>\n      <td>3</td>\n    </tr>\n    <tr>\n      <th>5</th>\n      <td>Corrientes</td>\n      <td>4865</td>\n      <td>200</td>\n      <td>120</td>\n      <td>2</td>\n    </tr>\n    <tr>\n      <th>6</th>\n      <td>Córdoba</td>\n      <td>35982</td>\n      <td>2994</td>\n      <td>649</td>\n      <td>52</td>\n    </tr>\n    <tr>\n      <th>7</th>\n      <td>Entre Ríos</td>\n      <td>5811</td>\n      <td>999</td>\n      <td>693</td>\n      <td>11</td>\n    </tr>\n    <tr>\n      <th>8</th>\n      <td>Formosa</td>\n      <td>904</td>\n      <td>81</td>\n      <td>77</td>\n      <td>0</td>\n    </tr>\n    <tr>\n      <th>9</th>\n      <td>Jujuy</td>\n      <td>15122</td>\n      <td>2957</td>\n      <td>317</td>\n      <td>31</td>\n    </tr>\n    <tr>\n      <th>10</th>\n      <td>La Pampa</td>\n      <td>1611</td>\n      <td>170</td>\n      <td>72</td>\n      <td>0</td>\n    </tr>\n    <tr>\n      <th>11</th>\n      <td>La Rioja</td>\n      <td>4371</td>\n      <td>449</td>\n      <td>206</td>\n      <td>18</td>\n    </tr>\n    <tr>\n      <th>12</th>\n      <td>Mendoza</td>\n      <td>9041</td>\n      <td>1791</td>\n      <td>532</td>\n      <td>49</td>\n    </tr>\n    <tr>\n      <th>13</th>\n      <td>Misiones</td>\n      <td>2391</td>\n      <td>52</td>\n      <td>39</td>\n      <td>2</td>\n    </tr>\n    <tr>\n      <th>14</th>\n      <td>Neuquén</td>\n      <td>5250</td>\n      <td>1376</td>\n      <td>968</td>\n      <td>28</td>\n    </tr>\n    <tr>\n      <th>15</th>\n      <td>Río Negro</td>\n      <td>8939</td>\n      <td>2666</td>\n      <td>1135</td>\n      <td>81</td>\n    </tr>\n    <tr>\n      <th>16</th>\n      <td>SIN ESPECIFICAR</td>\n      <td>3247</td>\n      <td>1317</td>\n      <td>520</td>\n      <td>4</td>\n    </tr>\n    <tr>\n      <th>17</th>\n      <td>Salta</td>\n      <td>2399</td>\n      <td>411</td>\n      <td>169</td>\n      <td>2</td>\n    </tr>\n    <tr>\n      <th>18</th>\n      <td>San Juan</td>\n      <td>1106</td>\n      <td>22</td>\n      <td>17</td>\n      <td>0</td>\n    </tr>\n    <tr>\n      <th>19</th>\n      <td>San Luis</td>\n      <td>934</td>\n      <td>32</td>\n      <td>14</td>\n      <td>0</td>\n    </tr>\n    <tr>\n      <th>20</th>\n      <td>Santa Cruz</td>\n      <td>1715</td>\n      <td>635</td>\n      <td>310</td>\n      <td>4</td>\n    </tr>\n    <tr>\n      <th>21</th>\n      <td>Santa Fe</td>\n      <td>23761</td>\n      <td>1778</td>\n      <td>846</td>\n      <td>18</td>\n    </tr>\n    <tr>\n      <th>22</th>\n      <td>Santiago del Estero</td>\n      <td>5808</td>\n      <td>78</td>\n      <td>36</td>\n      <td>0</td>\n    </tr>\n    <tr>\n      <th>23</th>\n      <td>Tierra del Fuego</td>\n      <td>3612</td>\n      <td>801</td>\n      <td>425</td>\n      <td>5</td>\n    </tr>\n    <tr>\n      <th>24</th>\n      <td>Tucumán</td>\n      <td>14118</td>\n      <td>348</td>\n      <td>152</td>\n      <td>5</td>\n    </tr>\n  </tbody>\n</table>\n</div>"
     },
     "metadata": {},
     "execution_count": 118
    }
   ],
   "source": [
    "# table provincias\n",
    "# Provincia\tCasos Confirmados Totales\tRecuperados\tFallecidos\n",
    "sql_string = '''SELECT residencia_provincia_nombre  AS Provincia,\n",
    "    count(*) AS Total,\n",
    "    sum(case when clasificacion_resumen=\"Confirmado\" then 1 else 0 end) AS Confirmados,\n",
    "    sum(case when clasificacion LIKE \"%No Activo%\" then 1 else 0 end) AS Recuperados,\n",
    "    sum(case when clasificacion = \"Caso confirmado - Fallecido\" then 1 else 0 end) AS Fallecidos\n",
    "FROM test_0\n",
    "GROUP BY residencia_provincia_nombre;\n",
    "'''\n",
    "gg = pd.read_sql(sql_string, conn)\n",
    "gg"
   ]
  },
  {
   "cell_type": "code",
   "execution_count": 117,
   "metadata": {},
   "outputs": [
    {
     "output_type": "execute_result",
     "data": {
      "text/plain": "                 Residencia  Total  Confirmados  Recuperados  Fallecidos\n0                25 de Mayo    199           36           23           0\n1                9 de Julio    287           21           14           1\n2             Adolfo Alsina     35            2            2           0\n3    Adolfo Gonzales Chaves     36            1            0           0\n4                   Alberti    158           12            7           0\n..                      ...    ...          ...          ...         ...\n131         Tres de Febrero  13810         5110         2526         107\n132           Vicente López   8028         2371         1027          55\n133            Villa Gesell    160            9            6           0\n134               Villarino    127           19           16           0\n135                  Zárate   2198          475          325           7\n\n[136 rows x 5 columns]",
      "text/html": "<div>\n<style scoped>\n    .dataframe tbody tr th:only-of-type {\n        vertical-align: middle;\n    }\n\n    .dataframe tbody tr th {\n        vertical-align: top;\n    }\n\n    .dataframe thead th {\n        text-align: right;\n    }\n</style>\n<table border=\"1\" class=\"dataframe\">\n  <thead>\n    <tr style=\"text-align: right;\">\n      <th></th>\n      <th>Residencia</th>\n      <th>Total</th>\n      <th>Confirmados</th>\n      <th>Recuperados</th>\n      <th>Fallecidos</th>\n    </tr>\n  </thead>\n  <tbody>\n    <tr>\n      <th>0</th>\n      <td>25 de Mayo</td>\n      <td>199</td>\n      <td>36</td>\n      <td>23</td>\n      <td>0</td>\n    </tr>\n    <tr>\n      <th>1</th>\n      <td>9 de Julio</td>\n      <td>287</td>\n      <td>21</td>\n      <td>14</td>\n      <td>1</td>\n    </tr>\n    <tr>\n      <th>2</th>\n      <td>Adolfo Alsina</td>\n      <td>35</td>\n      <td>2</td>\n      <td>2</td>\n      <td>0</td>\n    </tr>\n    <tr>\n      <th>3</th>\n      <td>Adolfo Gonzales Chaves</td>\n      <td>36</td>\n      <td>1</td>\n      <td>0</td>\n      <td>0</td>\n    </tr>\n    <tr>\n      <th>4</th>\n      <td>Alberti</td>\n      <td>158</td>\n      <td>12</td>\n      <td>7</td>\n      <td>0</td>\n    </tr>\n    <tr>\n      <th>...</th>\n      <td>...</td>\n      <td>...</td>\n      <td>...</td>\n      <td>...</td>\n      <td>...</td>\n    </tr>\n    <tr>\n      <th>131</th>\n      <td>Tres de Febrero</td>\n      <td>13810</td>\n      <td>5110</td>\n      <td>2526</td>\n      <td>107</td>\n    </tr>\n    <tr>\n      <th>132</th>\n      <td>Vicente López</td>\n      <td>8028</td>\n      <td>2371</td>\n      <td>1027</td>\n      <td>55</td>\n    </tr>\n    <tr>\n      <th>133</th>\n      <td>Villa Gesell</td>\n      <td>160</td>\n      <td>9</td>\n      <td>6</td>\n      <td>0</td>\n    </tr>\n    <tr>\n      <th>134</th>\n      <td>Villarino</td>\n      <td>127</td>\n      <td>19</td>\n      <td>16</td>\n      <td>0</td>\n    </tr>\n    <tr>\n      <th>135</th>\n      <td>Zárate</td>\n      <td>2198</td>\n      <td>475</td>\n      <td>325</td>\n      <td>7</td>\n    </tr>\n  </tbody>\n</table>\n<p>136 rows × 5 columns</p>\n</div>"
     },
     "metadata": {},
     "execution_count": 117
    }
   ],
   "source": [
    "# table departamentos buenos aires\n",
    "# Provincia\tCasos Confirmados Totales\tRecuperados\tFallecidos\n",
    "sql_string = '''SELECT residencia_departamento_nombre  AS Residencia,\n",
    "    count(*) AS Total,\n",
    "    sum(case when clasificacion_resumen=\"Confirmado\" then 1 else 0 end) AS Confirmados,\n",
    "    sum(case when clasificacion LIKE \"%No Activo%\" then 1 else 0 end) AS Recuperados,\n",
    "    sum(case when clasificacion = \"Caso confirmado - Fallecido\" then 1 else 0 end) AS Fallecidos\n",
    "FROM test_0\n",
    "WHERE (residencia_provincia_nombre=\"Buenos Aires\")\n",
    "GROUP BY residencia_departamento_nombre;\n",
    "'''\n",
    "gg = pd.read_sql(sql_string, conn)\n",
    "gg"
   ]
  },
  {
   "cell_type": "code",
   "execution_count": 116,
   "metadata": {},
   "outputs": [
    {
     "output_type": "execute_result",
     "data": {
      "text/plain": "  fecha_apertura  count(*)\n0     2020-08-06      1598\n1     2020-08-05      3110\n2     2020-08-04      5656\n3     2020-08-03      5641\n4     2020-08-02      3934\n5     2020-08-01      3948\n6     2020-07-31      5756",
      "text/html": "<div>\n<style scoped>\n    .dataframe tbody tr th:only-of-type {\n        vertical-align: middle;\n    }\n\n    .dataframe tbody tr th {\n        vertical-align: top;\n    }\n\n    .dataframe thead th {\n        text-align: right;\n    }\n</style>\n<table border=\"1\" class=\"dataframe\">\n  <thead>\n    <tr style=\"text-align: right;\">\n      <th></th>\n      <th>fecha_apertura</th>\n      <th>count(*)</th>\n    </tr>\n  </thead>\n  <tbody>\n    <tr>\n      <th>0</th>\n      <td>2020-08-06</td>\n      <td>1598</td>\n    </tr>\n    <tr>\n      <th>1</th>\n      <td>2020-08-05</td>\n      <td>3110</td>\n    </tr>\n    <tr>\n      <th>2</th>\n      <td>2020-08-04</td>\n      <td>5656</td>\n    </tr>\n    <tr>\n      <th>3</th>\n      <td>2020-08-03</td>\n      <td>5641</td>\n    </tr>\n    <tr>\n      <th>4</th>\n      <td>2020-08-02</td>\n      <td>3934</td>\n    </tr>\n    <tr>\n      <th>5</th>\n      <td>2020-08-01</td>\n      <td>3948</td>\n    </tr>\n    <tr>\n      <th>6</th>\n      <td>2020-07-31</td>\n      <td>5756</td>\n    </tr>\n  </tbody>\n</table>\n</div>"
     },
     "metadata": {},
     "execution_count": 116
    }
   ],
   "source": [
    "# table departamentos buenos aires\n",
    "# Provincia\tCasos Confirmados Totales\tRecuperados\tFallecidos\n",
    "sql_string = '''\n",
    "SELECT fecha_apertura, count(*) FROM test_0 WHERE (clasificacion_resumen=\"Confirmado\") group by fecha_apertura  ORDER BY \"fecha_apertura\" DESC LIMIT 7;\n",
    "'''\n",
    "gg = pd.read_sql(sql_string, conn)\n",
    "gg\n",
    "\n",
    "\n"
   ]
  },
  {
   "cell_type": "code",
   "execution_count": null,
   "metadata": {},
   "outputs": [],
   "source": []
  }
 ],
 "metadata": {
  "kernelspec": {
   "display_name": "Python 3",
   "language": "python",
   "name": "python3"
  },
  "language_info": {
   "codemirror_mode": {
    "name": "ipython",
    "version": 3
   },
   "file_extension": ".py",
   "mimetype": "text/x-python",
   "name": "python",
   "nbconvert_exporter": "python",
   "pygments_lexer": "ipython3",
   "version": "3.6.5-final"
  }
 },
 "nbformat": 4,
 "nbformat_minor": 4
}