{
 "cells": [
  {
   "cell_type": "code",
   "execution_count": 11,
   "metadata": {
    "tags": []
   },
   "outputs": [
    {
     "data": {
      "text/plain": [
       "'1.0.3'"
      ]
     },
     "execution_count": 11,
     "metadata": {},
     "output_type": "execute_result"
    }
   ],
   "source": [
    "#pip install --upgrade pip  -m \n",
    "#pip install pandas\n",
    "import pandas\n",
    "pandas.__version__"
   ]
  },
  {
   "cell_type": "code",
   "execution_count": 3,
   "metadata": {
    "tags": []
   },
   "outputs": [],
   "source": [
    "# Import pandas \n",
    "import pandas as pd \n",
    "# reading csv file \n",
    "df = pd.read_csv('./data/casoscovid19.csv')\n",
    "#print(df.head(7))\n",
    "#print(df.columns)\n",
    "#df.query('clasificacion_resumen  > Confirmado')\n",
    "df.query('clasificacion_resumen == \"Confirmado\"', inplace = True) \n"
   ]
  },
  {
   "cell_type": "code",
   "execution_count": 4,
   "metadata": {
    "tags": []
   },
   "outputs": [
    {
     "name": "stdout",
     "output_type": "stream",
     "text": [
      "216752\n"
     ]
    }
   ],
   "source": [
    "# https://www.geeksforgeeks.org/python-filtering-data-with-pandas-query-method/\n",
    "# importing pandas package \n",
    "import pandas as pd \n",
    "  \n",
    "# making data frame from csv file  \n",
    "data = pd.read_csv(\"./data/casoscovid19.csv\") \n",
    "  \n",
    "# replacing blank spaces with '_'  \n",
    "data.columns =[column.replace(\" \", \"_\") for column in data.columns] \n",
    "  \n",
    "# filtering with query method \n",
    "#print(len(data.query('clasificacion_resumen ==\"Confirmado\"', inplace = True)))\n",
    "print(len(data.query('clasificacion_resumen ==\"Confirmado\"')))\n",
    "# display \n",
    "#data "
   ]
  },
  {
   "cell_type": "code",
   "execution_count": 5,
   "metadata": {},
   "outputs": [
    {
     "ename": "SyntaxError",
     "evalue": "EOL while scanning string literal (<ipython-input-5-bbdc125c421c>, line 2)",
     "output_type": "error",
     "traceback": [
      "\u001b[1;36m  File \u001b[1;32m\"<ipython-input-5-bbdc125c421c>\"\u001b[1;36m, line \u001b[1;32m2\u001b[0m\n\u001b[1;33m    data.query('clasificacion_resumen ==\"Confirmado\"\u001b[0m\n\u001b[1;37m                                                    ^\u001b[0m\n\u001b[1;31mSyntaxError\u001b[0m\u001b[1;31m:\u001b[0m EOL while scanning string literal\n"
     ]
    }
   ],
   "source": [
    "# filtering with query method \n",
    "data.query('clasificacion_resumen ==\"Confirmado\"\n",
    "            and Gender ==\"Male\" and Team ==\"Marketing\" \n",
    "            and First_Name ==\"Johnny\"', inplace = True) \n",
    "  \n",
    "# display \n",
    "data"
   ]
  },
  {
   "cell_type": "code",
   "execution_count": null,
   "metadata": {},
   "outputs": [],
   "source": [
    "#Downloader\n",
    "# https://stackoverflow.com/questions/22676/how-do-i-download-a-file-over-http-using-python\n",
    "import urllib2\n",
    "\n",
    "url = \"http://download.thinkbroadband.com/10MB.zip\"\n",
    "\n",
    "file_name = url.split('/')[-1]\n",
    "u = urllib2.urlopen(url)\n",
    "f = open(file_name, 'wb')\n",
    "meta = u.info()\n",
    "file_size = int(meta.getheaders(\"Content-Length\")[0])\n",
    "print \"Downloading: %s Bytes: %s\" % (file_name, file_size)\n",
    "\n",
    "file_size_dl = 0\n",
    "block_sz = 8192\n",
    "while True:\n",
    "    buffer = u.read(block_sz)\n",
    "    if not buffer:\n",
    "        break\n",
    "\n",
    "    file_size_dl += len(buffer)\n",
    "    f.write(buffer)\n",
    "    status = r\"%10d  [%3.2f%%]\" % (file_size_dl, file_size_dl * 100. / file_size)\n",
    "    status = status + chr(8)*(len(status)+1)\n",
    "    print status,\n",
    "\n",
    "f.close()"
   ]
  },
  {
   "cell_type": "code",
   "execution_count": null,
   "metadata": {},
   "outputs": [],
   "source": [
    "# Simple\n",
    "import urllib\n",
    "urllib.urlretrieve (\"http://www.example.com/songs/mp3.mp3\", \"mp3.mp3\")"
   ]
  },
  {
   "cell_type": "code",
   "execution_count": 22,
   "metadata": {},
   "outputs": [],
   "source": [
    "#Work as SQL\n",
    "import pandas as pd\n",
    "import sqlite3\n",
    "\n",
    "#read the CSV\n",
    "df = pd.read_csv('./data/casoscovid19.csv')\n",
    "#connect to a database\n",
    "conn = sqlite3.connect(\"casoscovid19.db\") #if the db does not exist, this creates a Any_Database_Name.db file in the current directory\n",
    "#store your table in the database:\n",
    "df.to_sql('TEST4', conn)\n",
    "#read a SQL Query out of your database and into a pandas dataframe\n",
    "sql_string = 'SELECT * FROM TEST4'\n",
    "df = pd.read_sql(sql_string, conn)"
   ]
  },
  {
   "cell_type": "code",
   "execution_count": null,
   "metadata": {},
   "outputs": [],
   "source": []
  }
 ],
 "metadata": {
  "kernelspec": {
   "display_name": "Python 3",
   "language": "python",
   "name": "python3"
  },
  "language_info": {
   "codemirror_mode": {
    "name": "ipython",
    "version": 3
   },
   "file_extension": ".py",
   "mimetype": "text/x-python",
   "name": "python",
   "nbconvert_exporter": "python",
   "pygments_lexer": "ipython3",
   "version": "3.8.4rc1"
  }
 },
 "nbformat": 4,
 "nbformat_minor": 4
}
